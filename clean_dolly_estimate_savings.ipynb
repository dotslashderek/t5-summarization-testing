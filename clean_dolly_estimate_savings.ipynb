{
 "cells": [
  {
   "metadata": {
    "ExecuteTime": {
     "end_time": "2025-10-17T05:07:28.932353Z",
     "start_time": "2025-10-17T05:07:28.864336Z"
    }
   },
   "cell_type": "code",
   "source": [
    "import csv\n",
    "\n",
    "input_path = \"training_data/dolly-15k-compressions-gpt-test.csv\"\n",
    "output_path = \"training_data/dolly-summarization-data.csv\"\n",
    "\n",
    "unique_prompts = set()\n",
    "cleaned_rows = []\n",
    "\n",
    "with open(input_path, \"r\", encoding=\"utf-8\") as infile:\n",
    "    reader = csv.reader(infile)\n",
    "    header = next(reader)\n",
    "    for row in reader:\n",
    "        prompt = row[0]\n",
    "        # Only keep if fifth column is not empty and prompt is unique\n",
    "        if row[4].strip() and prompt not in unique_prompts:\n",
    "            cleaned_rows.append(row)\n",
    "            unique_prompts.add(prompt)\n",
    "\n",
    "with open(output_path, \"w\", encoding=\"utf-8\", newline=\"\") as outfile:\n",
    "    writer = csv.writer(outfile, quoting=csv.QUOTE_ALL)\n",
    "    writer.writerow(header)\n",
    "    writer.writerows(cleaned_rows)\n",
    "\n",
    "print(f\"Cleaned data written to {output_path}. {len(cleaned_rows)} unique, complete rows retained.\")"
   ],
   "id": "8b9b143fbbbd40e5",
   "outputs": [
    {
     "name": "stdout",
     "output_type": "stream",
     "text": [
      "Cleaned data written to training_data/dolly-summarization-data.csv. 14779 unique, complete rows retained.\n"
     ]
    }
   ],
   "execution_count": 5
  },
  {
   "metadata": {
    "ExecuteTime": {
     "end_time": "2025-10-17T05:08:39.380023Z",
     "start_time": "2025-10-17T05:08:39.351831Z"
    }
   },
   "cell_type": "code",
   "source": [
    "import csv\n",
    "\n",
    "input_path = \"training_data/dolly-summarization-data.csv\"\n",
    "\n",
    "total_original_tokens = 0\n",
    "total_compression_tokens = 0\n",
    "row_count = 0\n",
    "\n",
    "with open(input_path, \"r\", encoding=\"utf-8\") as infile:\n",
    "    reader = csv.reader(infile)\n",
    "    header = next(reader)\n",
    "    for row in reader:\n",
    "        try:\n",
    "            orig_tokens = int(row[2])\n",
    "            comp_tokens = int(row[3])\n",
    "            total_original_tokens += orig_tokens\n",
    "            total_compression_tokens += comp_tokens\n",
    "            row_count += 1\n",
    "        except (ValueError, IndexError):\n",
    "            continue  # skip rows with missing or invalid token counts\n",
    "\n",
    "if total_original_tokens > 0:\n",
    "    overall_compression_ratio = round(total_compression_tokens / total_original_tokens, 4)\n",
    "else:\n",
    "    overall_compression_ratio = None\n",
    "\n",
    "print(f\"Total rows: {row_count}\")\n",
    "print(f\"Total original tokens: {total_original_tokens}\")\n",
    "print(f\"Total compression tokens: {total_compression_tokens}\")\n",
    "print(f\"Overall compression ratio (column 5): {overall_compression_ratio}\")"
   ],
   "id": "44ea218e669f1c52",
   "outputs": [
    {
     "name": "stdout",
     "output_type": "stream",
     "text": [
      "Total rows: 14779\n",
      "Total original tokens: 236923\n",
      "Total compression tokens: 177070\n",
      "Overall compression ratio (column 5): 0.7474\n"
     ]
    }
   ],
   "execution_count": 8
  },
  {
   "metadata": {},
   "cell_type": "code",
   "outputs": [],
   "execution_count": null,
   "source": "",
   "id": "5bdfe8fb656afb68"
  }
 ],
 "metadata": {
  "kernelspec": {
   "display_name": "Python 3",
   "language": "python",
   "name": "python3"
  },
  "language_info": {
   "codemirror_mode": {
    "name": "ipython",
    "version": 2
   },
   "file_extension": ".py",
   "mimetype": "text/x-python",
   "name": "python",
   "nbconvert_exporter": "python",
   "pygments_lexer": "ipython2",
   "version": "2.7.6"
  }
 },
 "nbformat": 4,
 "nbformat_minor": 5
}

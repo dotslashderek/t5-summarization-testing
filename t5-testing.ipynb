{
 "cells": [
  {
   "cell_type": "code",
   "id": "initial_id",
   "metadata": {
    "collapsed": true,
    "jupyter": {
     "is_executing": true
    }
   },
   "source": [
    "from datasets import load_dataset\n",
    "\n",
    "billsum = load_dataset(\"billsum\", split=\"ca_test\")"
   ],
   "outputs": [],
   "execution_count": null
  },
  {
   "metadata": {
    "ExecuteTime": {
     "end_time": "2025-10-09T08:12:14.375796Z",
     "start_time": "2025-10-09T08:12:14.365800Z"
    }
   },
   "cell_type": "code",
   "source": "billsum = billsum.train_test_split(test_size=0.2)",
   "id": "32925bb249935767",
   "outputs": [],
   "execution_count": 3
  },
  {
   "metadata": {
    "ExecuteTime": {
     "end_time": "2025-10-09T08:12:30.897690Z",
     "start_time": "2025-10-09T08:12:30.887695Z"
    }
   },
   "cell_type": "code",
   "source": "billsum[\"train\"][0]",
   "id": "fc49e4a669c553dd",
   "outputs": [
    {
     "data": {
      "text/plain": [
       "{'text': 'The people of the State of California do enact as follows:\\n\\n\\nSECTION 1.\\nSection 23663 of the Revenue and Taxation Code is amended to read:\\n23663.\\n(a) (1) Notwithstanding any other law\\nto the contrary\\n, for each taxable year beginning on or after July 1, 2008, any credit allowed to a taxpayer under this chapter that is an eligible credit may be assigned by that taxpayer to any eligible assignee.\\n(2) A credit assigned under paragraph (1) may\\nonly\\nbe applied by the eligible assignee\\nonly\\nagainst the\\n“tax” (as\\n“tax,” as\\ndefined in Section\\n23036)\\n23036,\\nof the eligible assignee in a taxable year beginning on or after January 1, 2010.\\n(3) Except as specifically provided in this section, following an assignment of any eligible credit under this section, the eligible assignee shall be treated as if it originally earned the assigned credit.\\n(b) For purposes of this section, the following definitions shall apply:\\n(1) “Affiliated corporation” means a corporation that is a member of a commonly controlled group as defined in Section 25105.\\n(2) “Eligible credit” shall mean:\\n(A) Any credit earned by the taxpayer in a taxable year beginning on or after July 1, 2008, or\\n(B) Any credit earned in any taxable year beginning before July 1, 2008, that is eligible to be carried forward to the taxpayer’s first taxable year beginning on or after July 1, 2008, under the provisions of this part.\\n(3) “Eligible assignee” shall mean any affiliated corporation that is properly treated as a member of the same combined reporting group pursuant to Section 25101 or 25110 as the taxpayer assigning the eligible credit as of:\\n(A) In the case of credits earned in taxable years beginning before July 1, 2008:\\n(i) June 30, 2008, and\\n(ii) The last day of the taxable year of the assigning taxpayer in which the eligible credit is assigned.\\n(B) In the case of credits earned in taxable years beginning on or after July 1, 2008.\\n(i) The last day of the first taxable year in which the credit was allowed to the taxpayer, and\\n(ii) The last day of the taxable year of the assigning taxpayer in which the eligible credit is assigned.\\n(c) (1) The election to assign any credit under subdivision (a) shall be irrevocable once made, and shall be made by the taxpayer allowed that credit on its original return for the taxable year in which the assignment is made.\\n(2) The taxpayer assigning any credit under this section shall reduce the amount of its unused credit by the face amount of any credit assigned under this section, and the amount of the assigned credit shall not be available for application against the assigning taxpayer’s “tax” in any taxable year, nor shall it thereafter be included in the amount of any credit carryover of the assigning taxpayer.\\n(3) The eligible assignee of any credit under this section may apply all or any portion of the assigned credits against the “tax” of the eligible assignee for the taxable year in which the assignment occurs, or any subsequent taxable year, subject to any carryover period limitations that apply to the assigned credit and also subject to the limitation in paragraph (2) of subdivision (a).\\n(4)\\nIn no case may the\\nThe\\neligible assignee\\nshall not\\nsell, otherwise transfer, or thereafter assign the assigned credit to any other taxpayer.\\n(d) (1)\\nNo consideration\\nConsideration\\nshall\\nnot\\nbe required to be paid by the eligible assignee to the assigning taxpayer for assignment of any credit under this section.\\n(2) In the event that any consideration is paid by the eligible assignee to the assigning taxpayer for the transfer of an eligible credit under this section, then:\\n(A)\\nNo\\nA\\ndeduction shall\\nnot\\nbe allowed to the eligible assignee under this part with respect to any amounts so paid, and\\n(B)\\nNo amounts\\nAny amount\\nso received by the assigning taxpayer shall\\nnot\\nbe includable in gross income under this part.\\n(e) (1) The Franchise Tax Board shall specify the form and manner in which the election required under this section shall be made, as well as any necessary information that shall be required to be provided by the taxpayer assigning the credit to the eligible assignee.\\n(2) Any taxpayer who assigns any credit under this section shall report any information, in the form and manner specified by the Franchise Tax Board, necessary to substantiate any credit assigned under this section and verify the assignment and subsequent application of any assigned credit.\\n(3) Chapter 3.5 (commencing with Section 11340) of Part 1 of Division 3 of Title 2 of the Government Code shall not apply to any standard, criterion, procedure, determination, rule, notice, or guideline established or issued by the Franchise Tax Board pursuant to paragraphs (1) and (2).\\n(4) The Franchise Tax Board may issue any\\nregulations\\nregulation\\nnecessary to implement the purposes of this section, including any\\nregulations\\nregulation\\nnecessary to specify the treatment of any assignment that does not comply with\\nthe requirements of\\nthis section (including, for example,\\nwhere\\nif\\nthe taxpayer and eligible assignee are not properly treated as members of the same combined reporting group on any of the dates specified in paragraph (3) of subdivision (b).\\n(f) (1) The taxpayer and the eligible assignee shall be jointly and severally liable for any tax, addition to tax, or penalty that results from the disallowance, in whole or in part, of any eligible credit assigned under this section.\\n(2)\\nNothing in this\\nThis\\nsection shall\\nnot\\nlimit the authority of the Franchise Tax Board to audit either the assigning taxpayer or the eligible assignee with respect to any eligible credit assigned under this section.\\n(g) On or before June 30, 2013, the Franchise Tax Board shall report to the Joint Legislative Budget Committee, the Legislative Analyst, and the relevant policy committees of both houses on the effects of this section. The report shall include, but need not be limited to, the following:\\n(1) An estimate of use of credits in the 2010 and 2011 taxable years by eligible taxpayers.\\n(2) An analysis of effect of this section on expanding business activity in the state related to these credits.\\n(3) An estimate of the resulting tax revenue loss to the state.\\n(4) The report shall cover all credits covered in this section, but focus on the credits related to research and development, economic incentive areas, and low-income housing.',\n",
       " 'summary': 'The Corporation Tax Law allows various credits against the taxes imposed by that law. That law allows, for each taxable year beginning on or after July 1, 2008, any credit that is an eligible credit, as defined, to be assigned to any eligible assignee, as defined.\\nThis bill would make technical, nonsubstantive changes to this provision.',\n",
       " 'title': 'An act to amend Section 23663 of the Revenue and Taxation Code, relating to taxation.'}"
      ]
     },
     "execution_count": 4,
     "metadata": {},
     "output_type": "execute_result"
    }
   ],
   "execution_count": 4
  },
  {
   "metadata": {
    "ExecuteTime": {
     "end_time": "2025-10-09T08:38:34.694079Z",
     "start_time": "2025-10-09T08:38:34.689528Z"
    }
   },
   "cell_type": "code",
   "source": "billsum['test'][0]",
   "id": "83a270069a2c2e23",
   "outputs": [
    {
     "data": {
      "text/plain": [
       "{'text': 'The people of the State of California do enact as follows:\\n\\n\\nSECTION 1.\\nSection 222.5 of the Code of Civil Procedure is amended to read:\\n222.5.\\n(a) To select a fair and impartial jury in civil jury trials, the court shall examine the prospective jurors. Upon completion of the court’s initial examination, counsel for each party shall have the right to examine, by oral and direct questioning, any of the prospective jurors so that counsel may intelligently exercise both peremptory challenges and challenges for cause. During any examination conducted by counsel for the parties, the court should permit liberal and probing examination calculated to discover bias or prejudice with regard to the circumstances of the particular case. The fact that a topic has been included in the court’s examination should not preclude additional nonrepetitive or nonduplicative questioning in the same area by counsel.\\n(b) To help facilitate the jury selection process, the court in civil trials should provide to counsel for each party the complete names of the prospective jurors, both alphabetically and in the order in which they will be called.\\n(c) The court should allow a brief opening statement by counsel for each party before the commencement of the oral questioning phase of the voir dire process.\\n(d) The scope of the examination conducted by counsel shall be within reasonable limits prescribed by the court in the court’s sound discretion. In exercising its sound discretion as to the form and subject matter of voir dire questions, the court should consider, among other criteria, any unique or complex elements, legal or factual, in the case and the individual responses or conduct of jurors that may evince attitudes inconsistent with suitability to serve as a fair and impartial juror in the particular case. Specific unreasonable or arbitrary time limits shall not be imposed in any case. The court shall not establish a blanket policy of a time limit for voir dire.\\n(e) The court should permit counsel to conduct voir dire examination without requiring prior submission of the questions unless a particular counsel engages in improper questioning. For purposes of this section, an “improper question” is any question that, as its dominant purpose, attempts to precondition the prospective jurors to a particular result, indoctrinate the jury, or question the prospective jurors concerning the pleadings or the applicable law. A court shall not arbitrarily or unreasonably refuse to submit reasonable written questionnaires, the contents of which are determined by the court in its sound discretion, when requested by counsel. If a questionnaire is used, the parties should be given reasonable time to evaluate the responses to the questionnaires before oral questioning commences.\\n(f) In civil cases, the court may, upon stipulation by counsel for all the parties appearing in the action, permit counsel to examine the prospective jurors outside the court’s presence.\\nSEC. 2.\\nSection 223 of the Code of Civil Procedure is amended to read:\\n223.\\n(a) In a criminal case, the court shall conduct an initial examination of prospective jurors. The court may submit to the prospective jurors additional questions requested by the parties as it deems proper.\\n(b) The court shall provide to counsel for each party the complete names of the prospective jurors, both alphabetically and in the order in which they will be called. However, the court, in each criminal trial, shall determine a uniform manner by which each prospective juror shall be addressed by the court and counsel for each party, according to one of the following:\\n(1) An identification number assigned by the court.\\n(2) The prospective juror’s first name and the first initial of his or her last name.\\n(3) The prospective juror’s title and last name.\\n(c) Before examining prospective jurors, the court shall advise them that, in accordance with state law, the court and counsel for each party are prohibited, in all criminal cases, from addressing prospective jurors by their full names during jury selection, and are required to address each prospective juror by an identification number, by his or her first name and the first initial of his or her last name, or by his or her title and last name.\\n(d) Upon completion of the court’s initial examination, counsel for each party shall have the right to examine, by oral and direct questioning, any or all of the prospective jurors. The court may, in the exercise of its discretion, limit the oral and direct questioning of prospective jurors by counsel. The court may specify the maximum amount of time that counsel for each party may question an individual juror, or may specify an aggregate amount of time for each party, which can then be allocated among the prospective jurors by counsel.\\n(e) Voir dire of prospective jurors shall, where practicable, occur in the presence of the other jurors in all criminal cases, including death penalty cases. Examination of prospective jurors shall be conducted only in aid of the exercise of challenges for cause.\\n(f) The court’s exercise of its discretion in the manner in which voir dire is conducted, including any limitation on the time which will be allowed for direct questioning of prospective jurors by counsel and any determination that a question is not in aid of the exercise of challenges for cause, shall not cause any conviction to be reversed unless the exercise of that discretion has resulted in a miscarriage of justice, as specified in Section 13 of Article VI of the California Constitution.\\n(g) This section does not limit public access to juror information, as provided for under Section 237.\\n(h) This section shall remain in effect only until January 1, 2022, and as of that date is repealed, unless a later enacted statute, that is enacted before January 1, 2022, deletes or extends that date.\\nSEC. 3.\\nSection 223 is added to the Code of Civil Procedure, to read:\\n223.\\n(a) In a criminal case, the court shall conduct an initial examination of prospective jurors. The court may submit to the prospective jurors additional questions requested by the parties as it deems proper. Upon completion of the court’s initial examination, counsel for each party shall have the right to examine, by oral and direct questioning, any or all of the prospective jurors. The court may, in the exercise of its discretion, limit the oral and direct questioning of prospective jurors by counsel. The court may specify the maximum amount of time that counsel for each party may question an individual juror, or may specify an aggregate amount of time for each party, which can then be allocated among the prospective jurors by counsel. Voir dire of any prospective jurors shall, where practicable, occur in the presence of the other jurors in all criminal cases, including death penalty cases. Examination of prospective jurors shall be conducted only in aid of the exercise of challenges for cause.\\n(b) The trial court’s exercise of its discretion in the manner in which voir dire is conducted, including any limitation on the time which will be allowed for direct questioning of prospective jurors by counsel and any determination that a question is not in aid of the exercise of challenges for cause, shall not cause any conviction to be reversed unless the exercise of that discretion has resulted in a miscarriage of justice, as specified in Section 13 of Article VI of the California Constitution.\\n(c) This section is operative on and after January 1, 2022.',\n",
       " 'summary': '(1)\\xa0In civil trials, existing law requires a trial judge to examine prospective jurors, and, upon completion of the judge’s examination, grants counsel for each party the right to examine, by oral and direct questioning, any prospective juror in order to enable counsel to intelligently exercise peremptory challenges and challenges for cause. Existing law provides that the judge in civil trials should provide the parties with both the alphabetical list and the list of prospective jurors in the order in which they will be called.\\nThis bill would make nonsubstantive changes to these provisions.\\n(2)\\xa0Under existing law, which was enacted by initiative measure, in a criminal case, the court is required to conduct the examination of prospective jurors, except that the court may permit the parties, upon a showing of good cause, to conduct a further inquiry. The initiative measure provides that it may be amended by a measure enacted by a\\n2/3\\nvote of each house.\\nThis bill would, until January 1, 2022, in criminal trials, require the court to provide the complete names of prospective jurors to counsel for each party, as specified. The bill would also require the court and counsel for each party to address a prospective juror using a number assigned by the court, by the prospective juror’s first name and first initial of his or her last name, or by his or her title and last name, as determined by the court in each criminal trial. The bill would also make nonsubstantive changes to these provisions.',\n",
       " 'title': 'An act to amend Section 222.5 of, and to amend, repeal, and add Section 223 of, the Code of Civil Procedure, relating to jurors.'}"
      ]
     },
     "execution_count": 23,
     "metadata": {},
     "output_type": "execute_result"
    }
   ],
   "execution_count": 23
  },
  {
   "metadata": {
    "ExecuteTime": {
     "end_time": "2025-10-09T08:13:15.459193Z",
     "start_time": "2025-10-09T08:13:15.030429Z"
    }
   },
   "cell_type": "code",
   "source": [
    "from transformers import AutoTokenizer\n",
    "\n",
    "checkpoint = \"google-t5/t5-small\"\n",
    "tokenizer = AutoTokenizer.from_pretrained(checkpoint)"
   ],
   "id": "6196304f90e8d7a2",
   "outputs": [],
   "execution_count": 6
  },
  {
   "metadata": {
    "ExecuteTime": {
     "end_time": "2025-10-09T08:14:57.601904Z",
     "start_time": "2025-10-09T08:14:57.597691Z"
    }
   },
   "cell_type": "code",
   "source": [
    "prefix = \"summarize: \"\n",
    "\n",
    "\n",
    "def preprocess_function(examples):\n",
    "    inputs = [prefix + doc for doc in examples[\"text\"]]\n",
    "    model_inputs = tokenizer(inputs, max_length=1024, truncation=True)\n",
    "    print(model_inputs[0])\n",
    "    labels = tokenizer(text_target=examples[\"summary\"], max_length=128, truncation=True)\n",
    "    print(labels[0])\n",
    "    model_inputs[\"labels\"] = labels[\"input_ids\"]\n",
    "    return model_inputs"
   ],
   "id": "7811c0ebfdd2bbe6",
   "outputs": [],
   "execution_count": 9
  },
  {
   "metadata": {
    "ExecuteTime": {
     "end_time": "2025-10-09T08:15:17.292184Z",
     "start_time": "2025-10-09T08:15:15.980011Z"
    }
   },
   "cell_type": "code",
   "source": "tokenized_billsum = billsum.map(preprocess_function, batched=True)",
   "id": "d5045fe6e704a860",
   "outputs": [
    {
     "name": "stderr",
     "output_type": "stream",
     "text": [
      "Map:   0%|          | 0/989 [00:00<?, ? examples/s]"
     ]
    },
    {
     "name": "stdout",
     "output_type": "stream",
     "text": [
      "Encoding(num_tokens=1024, attributes=[ids, type_ids, tokens, offsets, attention_mask, special_tokens_mask, overflowing])\n",
      "Encoding(num_tokens=72, attributes=[ids, type_ids, tokens, offsets, attention_mask, special_tokens_mask, overflowing])\n"
     ]
    },
    {
     "name": "stderr",
     "output_type": "stream",
     "text": [
      "Map: 100%|██████████| 989/989 [00:01<00:00, 956.99 examples/s]\n",
      "Map: 100%|██████████| 248/248 [00:00<00:00, 951.60 examples/s]"
     ]
    },
    {
     "name": "stdout",
     "output_type": "stream",
     "text": [
      "Encoding(num_tokens=1024, attributes=[ids, type_ids, tokens, offsets, attention_mask, special_tokens_mask, overflowing])\n",
      "Encoding(num_tokens=128, attributes=[ids, type_ids, tokens, offsets, attention_mask, special_tokens_mask, overflowing])\n"
     ]
    },
    {
     "name": "stderr",
     "output_type": "stream",
     "text": [
      "\n"
     ]
    }
   ],
   "execution_count": 10
  },
  {
   "metadata": {
    "ExecuteTime": {
     "end_time": "2025-10-09T08:15:45.209422Z",
     "start_time": "2025-10-09T08:15:45.187433Z"
    }
   },
   "cell_type": "code",
   "source": [
    "from transformers import DataCollatorForSeq2Seq\n",
    "\n",
    "data_collator = DataCollatorForSeq2Seq(tokenizer=tokenizer, model=checkpoint)"
   ],
   "id": "9e8c9c14ece7341a",
   "outputs": [],
   "execution_count": 11
  },
  {
   "metadata": {
    "ExecuteTime": {
     "end_time": "2025-10-09T08:37:03.344240Z",
     "start_time": "2025-10-09T08:37:00.650418Z"
    }
   },
   "cell_type": "code",
   "source": [
    "import evaluate\n",
    "\n",
    "rouge = evaluate.load(\"rouge\")"
   ],
   "id": "f696662e2a03c0c3",
   "outputs": [],
   "execution_count": 20
  },
  {
   "metadata": {
    "ExecuteTime": {
     "end_time": "2025-10-09T08:37:40.960525Z",
     "start_time": "2025-10-09T08:37:40.954287Z"
    }
   },
   "cell_type": "code",
   "source": [
    "import numpy as np\n",
    "\n",
    "\n",
    "def compute_metrics(eval_pred):\n",
    "    predictions, labels = eval_pred\n",
    "    decoded_preds = tokenizer.batch_decode(predictions, skip_special_tokens=True)\n",
    "    labels = np.where(labels != -100, labels, tokenizer.pad_token_id)\n",
    "    decoded_labels = tokenizer.batch_decode(labels, skip_special_tokens=True)\n",
    "\n",
    "    result = rouge.compute(predictions=decoded_preds, references=decoded_labels, use_stemmer=True)\n",
    "\n",
    "    prediction_lens = [np.count_nonzero(pred != tokenizer.pad_token_id) for pred in predictions]\n",
    "    result[\"gen_len\"] = np.mean(prediction_lens)\n",
    "\n",
    "    return {k: round(v, 4) for k, v in result.items()}"
   ],
   "id": "e397dc3118f6e8ea",
   "outputs": [],
   "execution_count": 21
  },
  {
   "metadata": {
    "ExecuteTime": {
     "end_time": "2025-10-09T10:56:58.157145Z",
     "start_time": "2025-10-09T08:39:15.844896Z"
    }
   },
   "cell_type": "code",
   "source": [
    "from transformers import AutoModelForSeq2SeqLM, Seq2SeqTrainingArguments, Seq2SeqTrainer\n",
    "\n",
    "model = AutoModelForSeq2SeqLM.from_pretrained(checkpoint)"
   ],
   "id": "d088bf1603331a8f",
   "outputs": [],
   "execution_count": 25
  },
  {
   "metadata": {},
   "cell_type": "code",
   "outputs": [],
   "execution_count": null,
   "source": "text = \"summarize: The Inflation Reduction Act lowers prescription drug costs, health care costs, and energy costs. It's the most aggressive action on tackling the climate crisis in American history, which will lift up American workers and create good-paying, union jobs across the country. It'll lower the deficit and ask the ultra-wealthy and corporations to pay their fair share. And no one making under $400,000 per year will pay a penny more in taxes.\"\n",
   "id": "40a6f07135c92ef6"
  },
  {
   "metadata": {
    "ExecuteTime": {
     "end_time": "2025-10-09T10:56:58.081447Z",
     "start_time": "2025-10-09T10:49:43.431528Z"
    }
   },
   "cell_type": "code",
   "source": [
    "from transformers import pipeline\n",
    "\n",
    "summarizer = pipeline(\"summarization\", model=\"dotslashderek/my_awesome_billsum_model\")\n",
    "summarizer(text)"
   ],
   "id": "e6d607ccf516721f",
   "outputs": [
    {
     "ename": "KeyboardInterrupt",
     "evalue": "",
     "output_type": "error",
     "traceback": [
      "\u001B[31m---------------------------------------------------------------------------\u001B[39m",
      "\u001B[31mKeyboardInterrupt\u001B[39m                         Traceback (most recent call last)",
      "\u001B[36mCell\u001B[39m\u001B[36m \u001B[39m\u001B[32mIn[26]\u001B[39m\u001B[32m, line 3\u001B[39m\n\u001B[32m      1\u001B[39m \u001B[38;5;28;01mfrom\u001B[39;00m\u001B[38;5;250m \u001B[39m\u001B[34;01mtransformers\u001B[39;00m\u001B[38;5;250m \u001B[39m\u001B[38;5;28;01mimport\u001B[39;00m pipeline\n\u001B[32m----> \u001B[39m\u001B[32m3\u001B[39m summarizer = \u001B[43mpipeline\u001B[49m\u001B[43m(\u001B[49m\u001B[33;43m\"\u001B[39;49m\u001B[33;43msummarization\u001B[39;49m\u001B[33;43m\"\u001B[39;49m\u001B[43m,\u001B[49m\u001B[43m \u001B[49m\u001B[43mmodel\u001B[49m\u001B[43m=\u001B[49m\u001B[33;43m\"\u001B[39;49m\u001B[33;43mdotslashderek/my_awesome_billsum_model\u001B[39;49m\u001B[33;43m\"\u001B[39;49m\u001B[43m)\u001B[49m\n\u001B[32m      4\u001B[39m summarizer(text)\n",
      "\u001B[36mFile \u001B[39m\u001B[32m/Library/Frameworks/Python.framework/Versions/3.11/lib/python3.11/site-packages/transformers/pipelines/__init__.py:906\u001B[39m, in \u001B[36mpipeline\u001B[39m\u001B[34m(task, model, config, tokenizer, feature_extractor, image_processor, framework, revision, use_fast, token, device, device_map, torch_dtype, trust_remote_code, model_kwargs, pipeline_class, **kwargs)\u001B[39m\n\u001B[32m    904\u001B[39m \u001B[38;5;28;01mif\u001B[39;00m \u001B[38;5;28misinstance\u001B[39m(model, \u001B[38;5;28mstr\u001B[39m) \u001B[38;5;129;01mor\u001B[39;00m framework \u001B[38;5;129;01mis\u001B[39;00m \u001B[38;5;28;01mNone\u001B[39;00m:\n\u001B[32m    905\u001B[39m     model_classes = {\u001B[33m\"\u001B[39m\u001B[33mtf\u001B[39m\u001B[33m\"\u001B[39m: targeted_task[\u001B[33m\"\u001B[39m\u001B[33mtf\u001B[39m\u001B[33m\"\u001B[39m], \u001B[33m\"\u001B[39m\u001B[33mpt\u001B[39m\u001B[33m\"\u001B[39m: targeted_task[\u001B[33m\"\u001B[39m\u001B[33mpt\u001B[39m\u001B[33m\"\u001B[39m]}\n\u001B[32m--> \u001B[39m\u001B[32m906\u001B[39m     framework, model = \u001B[43minfer_framework_load_model\u001B[49m\u001B[43m(\u001B[49m\n\u001B[32m    907\u001B[39m \u001B[43m        \u001B[49m\u001B[43mmodel\u001B[49m\u001B[43m,\u001B[49m\n\u001B[32m    908\u001B[39m \u001B[43m        \u001B[49m\u001B[43mmodel_classes\u001B[49m\u001B[43m=\u001B[49m\u001B[43mmodel_classes\u001B[49m\u001B[43m,\u001B[49m\n\u001B[32m    909\u001B[39m \u001B[43m        \u001B[49m\u001B[43mconfig\u001B[49m\u001B[43m=\u001B[49m\u001B[43mconfig\u001B[49m\u001B[43m,\u001B[49m\n\u001B[32m    910\u001B[39m \u001B[43m        \u001B[49m\u001B[43mframework\u001B[49m\u001B[43m=\u001B[49m\u001B[43mframework\u001B[49m\u001B[43m,\u001B[49m\n\u001B[32m    911\u001B[39m \u001B[43m        \u001B[49m\u001B[43mtask\u001B[49m\u001B[43m=\u001B[49m\u001B[43mtask\u001B[49m\u001B[43m,\u001B[49m\n\u001B[32m    912\u001B[39m \u001B[43m        \u001B[49m\u001B[43m*\u001B[49m\u001B[43m*\u001B[49m\u001B[43mhub_kwargs\u001B[49m\u001B[43m,\u001B[49m\n\u001B[32m    913\u001B[39m \u001B[43m        \u001B[49m\u001B[43m*\u001B[49m\u001B[43m*\u001B[49m\u001B[43mmodel_kwargs\u001B[49m\u001B[43m,\u001B[49m\n\u001B[32m    914\u001B[39m \u001B[43m    \u001B[49m\u001B[43m)\u001B[49m\n\u001B[32m    916\u001B[39m model_config = model.config\n\u001B[32m    917\u001B[39m hub_kwargs[\u001B[33m\"\u001B[39m\u001B[33m_commit_hash\u001B[39m\u001B[33m\"\u001B[39m] = model.config._commit_hash\n",
      "\u001B[36mFile \u001B[39m\u001B[32m/Library/Frameworks/Python.framework/Versions/3.11/lib/python3.11/site-packages/transformers/pipelines/base.py:283\u001B[39m, in \u001B[36minfer_framework_load_model\u001B[39m\u001B[34m(model, config, model_classes, task, framework, **model_kwargs)\u001B[39m\n\u001B[32m    277\u001B[39m     logger.warning(\n\u001B[32m    278\u001B[39m         \u001B[33m\"\u001B[39m\u001B[33mModel might be a PyTorch model (ending with `.bin`) but PyTorch is not available. \u001B[39m\u001B[33m\"\u001B[39m\n\u001B[32m    279\u001B[39m         \u001B[33m\"\u001B[39m\u001B[33mTrying to load the model with Tensorflow.\u001B[39m\u001B[33m\"\u001B[39m\n\u001B[32m    280\u001B[39m     )\n\u001B[32m    282\u001B[39m \u001B[38;5;28;01mtry\u001B[39;00m:\n\u001B[32m--> \u001B[39m\u001B[32m283\u001B[39m     model = \u001B[43mmodel_class\u001B[49m\u001B[43m.\u001B[49m\u001B[43mfrom_pretrained\u001B[49m\u001B[43m(\u001B[49m\u001B[43mmodel\u001B[49m\u001B[43m,\u001B[49m\u001B[43m \u001B[49m\u001B[43m*\u001B[49m\u001B[43m*\u001B[49m\u001B[43mkwargs\u001B[49m\u001B[43m)\u001B[49m\n\u001B[32m    284\u001B[39m     \u001B[38;5;28;01mif\u001B[39;00m \u001B[38;5;28mhasattr\u001B[39m(model, \u001B[33m\"\u001B[39m\u001B[33meval\u001B[39m\u001B[33m\"\u001B[39m):\n\u001B[32m    285\u001B[39m         model = model.eval()\n",
      "\u001B[36mFile \u001B[39m\u001B[32m/Library/Frameworks/Python.framework/Versions/3.11/lib/python3.11/site-packages/transformers/models/auto/auto_factory.py:563\u001B[39m, in \u001B[36m_BaseAutoModelClass.from_pretrained\u001B[39m\u001B[34m(cls, pretrained_model_name_or_path, *model_args, **kwargs)\u001B[39m\n\u001B[32m    561\u001B[39m \u001B[38;5;28;01melif\u001B[39;00m \u001B[38;5;28mtype\u001B[39m(config) \u001B[38;5;129;01min\u001B[39;00m \u001B[38;5;28mcls\u001B[39m._model_mapping.keys():\n\u001B[32m    562\u001B[39m     model_class = _get_model_class(config, \u001B[38;5;28mcls\u001B[39m._model_mapping)\n\u001B[32m--> \u001B[39m\u001B[32m563\u001B[39m     \u001B[38;5;28;01mreturn\u001B[39;00m \u001B[43mmodel_class\u001B[49m\u001B[43m.\u001B[49m\u001B[43mfrom_pretrained\u001B[49m\u001B[43m(\u001B[49m\n\u001B[32m    564\u001B[39m \u001B[43m        \u001B[49m\u001B[43mpretrained_model_name_or_path\u001B[49m\u001B[43m,\u001B[49m\u001B[43m \u001B[49m\u001B[43m*\u001B[49m\u001B[43mmodel_args\u001B[49m\u001B[43m,\u001B[49m\u001B[43m \u001B[49m\u001B[43mconfig\u001B[49m\u001B[43m=\u001B[49m\u001B[43mconfig\u001B[49m\u001B[43m,\u001B[49m\u001B[43m \u001B[49m\u001B[43m*\u001B[49m\u001B[43m*\u001B[49m\u001B[43mhub_kwargs\u001B[49m\u001B[43m,\u001B[49m\u001B[43m \u001B[49m\u001B[43m*\u001B[49m\u001B[43m*\u001B[49m\u001B[43mkwargs\u001B[49m\n\u001B[32m    565\u001B[39m \u001B[43m    \u001B[49m\u001B[43m)\u001B[49m\n\u001B[32m    566\u001B[39m \u001B[38;5;28;01mraise\u001B[39;00m \u001B[38;5;167;01mValueError\u001B[39;00m(\n\u001B[32m    567\u001B[39m     \u001B[33mf\u001B[39m\u001B[33m\"\u001B[39m\u001B[33mUnrecognized configuration class \u001B[39m\u001B[38;5;132;01m{\u001B[39;00mconfig.\u001B[34m__class__\u001B[39m\u001B[38;5;132;01m}\u001B[39;00m\u001B[33m for this kind of AutoModel: \u001B[39m\u001B[38;5;132;01m{\u001B[39;00m\u001B[38;5;28mcls\u001B[39m.\u001B[34m__name__\u001B[39m\u001B[38;5;132;01m}\u001B[39;00m\u001B[33m.\u001B[39m\u001B[38;5;130;01m\\n\u001B[39;00m\u001B[33m\"\u001B[39m\n\u001B[32m    568\u001B[39m     \u001B[33mf\u001B[39m\u001B[33m\"\u001B[39m\u001B[33mModel type should be one of \u001B[39m\u001B[38;5;132;01m{\u001B[39;00m\u001B[33m'\u001B[39m\u001B[33m, \u001B[39m\u001B[33m'\u001B[39m.join(c.\u001B[34m__name__\u001B[39m\u001B[38;5;250m \u001B[39m\u001B[38;5;28;01mfor\u001B[39;00m\u001B[38;5;250m \u001B[39mc\u001B[38;5;250m \u001B[39m\u001B[38;5;129;01min\u001B[39;00m\u001B[38;5;250m \u001B[39m\u001B[38;5;28mcls\u001B[39m._model_mapping.keys())\u001B[38;5;132;01m}\u001B[39;00m\u001B[33m.\u001B[39m\u001B[33m\"\u001B[39m\n\u001B[32m    569\u001B[39m )\n",
      "\u001B[36mFile \u001B[39m\u001B[32m/Library/Frameworks/Python.framework/Versions/3.11/lib/python3.11/site-packages/transformers/modeling_utils.py:3306\u001B[39m, in \u001B[36mPreTrainedModel.from_pretrained\u001B[39m\u001B[34m(cls, pretrained_model_name_or_path, config, cache_dir, ignore_mismatched_sizes, force_download, local_files_only, token, revision, use_safetensors, *model_args, **kwargs)\u001B[39m\n\u001B[32m   3290\u001B[39m \u001B[38;5;28;01mtry\u001B[39;00m:\n\u001B[32m   3291\u001B[39m     \u001B[38;5;66;03m# Load from URL or cache if already cached\u001B[39;00m\n\u001B[32m   3292\u001B[39m     cached_file_kwargs = {\n\u001B[32m   3293\u001B[39m         \u001B[33m\"\u001B[39m\u001B[33mcache_dir\u001B[39m\u001B[33m\"\u001B[39m: cache_dir,\n\u001B[32m   3294\u001B[39m         \u001B[33m\"\u001B[39m\u001B[33mforce_download\u001B[39m\u001B[33m\"\u001B[39m: force_download,\n\u001B[32m   (...)\u001B[39m\u001B[32m   3304\u001B[39m         \u001B[33m\"\u001B[39m\u001B[33m_commit_hash\u001B[39m\u001B[33m\"\u001B[39m: commit_hash,\n\u001B[32m   3305\u001B[39m     }\n\u001B[32m-> \u001B[39m\u001B[32m3306\u001B[39m     resolved_archive_file = \u001B[43mcached_file\u001B[49m\u001B[43m(\u001B[49m\u001B[43mpretrained_model_name_or_path\u001B[49m\u001B[43m,\u001B[49m\u001B[43m \u001B[49m\u001B[43mfilename\u001B[49m\u001B[43m,\u001B[49m\u001B[43m \u001B[49m\u001B[43m*\u001B[49m\u001B[43m*\u001B[49m\u001B[43mcached_file_kwargs\u001B[49m\u001B[43m)\u001B[49m\n\u001B[32m   3308\u001B[39m     \u001B[38;5;66;03m# Since we set _raise_exceptions_for_missing_entries=False, we don't get an exception but a None\u001B[39;00m\n\u001B[32m   3309\u001B[39m     \u001B[38;5;66;03m# result when internet is up, the repo and revision exist, but the file does not.\u001B[39;00m\n\u001B[32m   3310\u001B[39m     \u001B[38;5;28;01mif\u001B[39;00m resolved_archive_file \u001B[38;5;129;01mis\u001B[39;00m \u001B[38;5;28;01mNone\u001B[39;00m \u001B[38;5;129;01mand\u001B[39;00m filename == _add_variant(SAFE_WEIGHTS_NAME, variant):\n\u001B[32m   3311\u001B[39m         \u001B[38;5;66;03m# Maybe the checkpoint is sharded, we try to grab the index name in this case.\u001B[39;00m\n",
      "\u001B[36mFile \u001B[39m\u001B[32m/Library/Frameworks/Python.framework/Versions/3.11/lib/python3.11/site-packages/transformers/utils/hub.py:398\u001B[39m, in \u001B[36mcached_file\u001B[39m\u001B[34m(path_or_repo_id, filename, cache_dir, force_download, resume_download, proxies, token, revision, local_files_only, subfolder, repo_type, user_agent, _raise_exceptions_for_gated_repo, _raise_exceptions_for_missing_entries, _raise_exceptions_for_connection_errors, _commit_hash, **deprecated_kwargs)\u001B[39m\n\u001B[32m    395\u001B[39m user_agent = http_user_agent(user_agent)\n\u001B[32m    396\u001B[39m \u001B[38;5;28;01mtry\u001B[39;00m:\n\u001B[32m    397\u001B[39m     \u001B[38;5;66;03m# Load from URL or cache if already cached\u001B[39;00m\n\u001B[32m--> \u001B[39m\u001B[32m398\u001B[39m     resolved_file = \u001B[43mhf_hub_download\u001B[49m\u001B[43m(\u001B[49m\n\u001B[32m    399\u001B[39m \u001B[43m        \u001B[49m\u001B[43mpath_or_repo_id\u001B[49m\u001B[43m,\u001B[49m\n\u001B[32m    400\u001B[39m \u001B[43m        \u001B[49m\u001B[43mfilename\u001B[49m\u001B[43m,\u001B[49m\n\u001B[32m    401\u001B[39m \u001B[43m        \u001B[49m\u001B[43msubfolder\u001B[49m\u001B[43m=\u001B[49m\u001B[38;5;28;43;01mNone\u001B[39;49;00m\u001B[43m \u001B[49m\u001B[38;5;28;43;01mif\u001B[39;49;00m\u001B[43m \u001B[49m\u001B[38;5;28;43mlen\u001B[39;49m\u001B[43m(\u001B[49m\u001B[43msubfolder\u001B[49m\u001B[43m)\u001B[49m\u001B[43m \u001B[49m\u001B[43m==\u001B[49m\u001B[43m \u001B[49m\u001B[32;43m0\u001B[39;49m\u001B[43m \u001B[49m\u001B[38;5;28;43;01melse\u001B[39;49;00m\u001B[43m \u001B[49m\u001B[43msubfolder\u001B[49m\u001B[43m,\u001B[49m\n\u001B[32m    402\u001B[39m \u001B[43m        \u001B[49m\u001B[43mrepo_type\u001B[49m\u001B[43m=\u001B[49m\u001B[43mrepo_type\u001B[49m\u001B[43m,\u001B[49m\n\u001B[32m    403\u001B[39m \u001B[43m        \u001B[49m\u001B[43mrevision\u001B[49m\u001B[43m=\u001B[49m\u001B[43mrevision\u001B[49m\u001B[43m,\u001B[49m\n\u001B[32m    404\u001B[39m \u001B[43m        \u001B[49m\u001B[43mcache_dir\u001B[49m\u001B[43m=\u001B[49m\u001B[43mcache_dir\u001B[49m\u001B[43m,\u001B[49m\n\u001B[32m    405\u001B[39m \u001B[43m        \u001B[49m\u001B[43muser_agent\u001B[49m\u001B[43m=\u001B[49m\u001B[43muser_agent\u001B[49m\u001B[43m,\u001B[49m\n\u001B[32m    406\u001B[39m \u001B[43m        \u001B[49m\u001B[43mforce_download\u001B[49m\u001B[43m=\u001B[49m\u001B[43mforce_download\u001B[49m\u001B[43m,\u001B[49m\n\u001B[32m    407\u001B[39m \u001B[43m        \u001B[49m\u001B[43mproxies\u001B[49m\u001B[43m=\u001B[49m\u001B[43mproxies\u001B[49m\u001B[43m,\u001B[49m\n\u001B[32m    408\u001B[39m \u001B[43m        \u001B[49m\u001B[43mresume_download\u001B[49m\u001B[43m=\u001B[49m\u001B[43mresume_download\u001B[49m\u001B[43m,\u001B[49m\n\u001B[32m    409\u001B[39m \u001B[43m        \u001B[49m\u001B[43mtoken\u001B[49m\u001B[43m=\u001B[49m\u001B[43mtoken\u001B[49m\u001B[43m,\u001B[49m\n\u001B[32m    410\u001B[39m \u001B[43m        \u001B[49m\u001B[43mlocal_files_only\u001B[49m\u001B[43m=\u001B[49m\u001B[43mlocal_files_only\u001B[49m\u001B[43m,\u001B[49m\n\u001B[32m    411\u001B[39m \u001B[43m    \u001B[49m\u001B[43m)\u001B[49m\n\u001B[32m    412\u001B[39m \u001B[38;5;28;01mexcept\u001B[39;00m GatedRepoError \u001B[38;5;28;01mas\u001B[39;00m e:\n\u001B[32m    413\u001B[39m     resolved_file = _get_cache_file_to_return(path_or_repo_id, full_filename, cache_dir, revision)\n",
      "\u001B[36mFile \u001B[39m\u001B[32m/Library/Frameworks/Python.framework/Versions/3.11/lib/python3.11/site-packages/huggingface_hub/utils/_validators.py:114\u001B[39m, in \u001B[36mvalidate_hf_hub_args.<locals>._inner_fn\u001B[39m\u001B[34m(*args, **kwargs)\u001B[39m\n\u001B[32m    111\u001B[39m \u001B[38;5;28;01mif\u001B[39;00m check_use_auth_token:\n\u001B[32m    112\u001B[39m     kwargs = smoothly_deprecate_use_auth_token(fn_name=fn.\u001B[34m__name__\u001B[39m, has_token=has_token, kwargs=kwargs)\n\u001B[32m--> \u001B[39m\u001B[32m114\u001B[39m \u001B[38;5;28;01mreturn\u001B[39;00m \u001B[43mfn\u001B[49m\u001B[43m(\u001B[49m\u001B[43m*\u001B[49m\u001B[43margs\u001B[49m\u001B[43m,\u001B[49m\u001B[43m \u001B[49m\u001B[43m*\u001B[49m\u001B[43m*\u001B[49m\u001B[43mkwargs\u001B[49m\u001B[43m)\u001B[49m\n",
      "\u001B[36mFile \u001B[39m\u001B[32m/Library/Frameworks/Python.framework/Versions/3.11/lib/python3.11/site-packages/huggingface_hub/file_download.py:1010\u001B[39m, in \u001B[36mhf_hub_download\u001B[39m\u001B[34m(repo_id, filename, subfolder, repo_type, revision, library_name, library_version, cache_dir, local_dir, user_agent, force_download, proxies, etag_timeout, token, local_files_only, headers, endpoint, resume_download, force_filename, local_dir_use_symlinks)\u001B[39m\n\u001B[32m    990\u001B[39m     \u001B[38;5;28;01mreturn\u001B[39;00m _hf_hub_download_to_local_dir(\n\u001B[32m    991\u001B[39m         \u001B[38;5;66;03m# Destination\u001B[39;00m\n\u001B[32m    992\u001B[39m         local_dir=local_dir,\n\u001B[32m   (...)\u001B[39m\u001B[32m   1007\u001B[39m         local_files_only=local_files_only,\n\u001B[32m   1008\u001B[39m     )\n\u001B[32m   1009\u001B[39m \u001B[38;5;28;01melse\u001B[39;00m:\n\u001B[32m-> \u001B[39m\u001B[32m1010\u001B[39m     \u001B[38;5;28;01mreturn\u001B[39;00m \u001B[43m_hf_hub_download_to_cache_dir\u001B[49m\u001B[43m(\u001B[49m\n\u001B[32m   1011\u001B[39m \u001B[43m        \u001B[49m\u001B[38;5;66;43;03m# Destination\u001B[39;49;00m\n\u001B[32m   1012\u001B[39m \u001B[43m        \u001B[49m\u001B[43mcache_dir\u001B[49m\u001B[43m=\u001B[49m\u001B[43mcache_dir\u001B[49m\u001B[43m,\u001B[49m\n\u001B[32m   1013\u001B[39m \u001B[43m        \u001B[49m\u001B[38;5;66;43;03m# File info\u001B[39;49;00m\n\u001B[32m   1014\u001B[39m \u001B[43m        \u001B[49m\u001B[43mrepo_id\u001B[49m\u001B[43m=\u001B[49m\u001B[43mrepo_id\u001B[49m\u001B[43m,\u001B[49m\n\u001B[32m   1015\u001B[39m \u001B[43m        \u001B[49m\u001B[43mfilename\u001B[49m\u001B[43m=\u001B[49m\u001B[43mfilename\u001B[49m\u001B[43m,\u001B[49m\n\u001B[32m   1016\u001B[39m \u001B[43m        \u001B[49m\u001B[43mrepo_type\u001B[49m\u001B[43m=\u001B[49m\u001B[43mrepo_type\u001B[49m\u001B[43m,\u001B[49m\n\u001B[32m   1017\u001B[39m \u001B[43m        \u001B[49m\u001B[43mrevision\u001B[49m\u001B[43m=\u001B[49m\u001B[43mrevision\u001B[49m\u001B[43m,\u001B[49m\n\u001B[32m   1018\u001B[39m \u001B[43m        \u001B[49m\u001B[38;5;66;43;03m# HTTP info\u001B[39;49;00m\n\u001B[32m   1019\u001B[39m \u001B[43m        \u001B[49m\u001B[43mendpoint\u001B[49m\u001B[43m=\u001B[49m\u001B[43mendpoint\u001B[49m\u001B[43m,\u001B[49m\n\u001B[32m   1020\u001B[39m \u001B[43m        \u001B[49m\u001B[43metag_timeout\u001B[49m\u001B[43m=\u001B[49m\u001B[43metag_timeout\u001B[49m\u001B[43m,\u001B[49m\n\u001B[32m   1021\u001B[39m \u001B[43m        \u001B[49m\u001B[43mheaders\u001B[49m\u001B[43m=\u001B[49m\u001B[43mhf_headers\u001B[49m\u001B[43m,\u001B[49m\n\u001B[32m   1022\u001B[39m \u001B[43m        \u001B[49m\u001B[43mproxies\u001B[49m\u001B[43m=\u001B[49m\u001B[43mproxies\u001B[49m\u001B[43m,\u001B[49m\n\u001B[32m   1023\u001B[39m \u001B[43m        \u001B[49m\u001B[43mtoken\u001B[49m\u001B[43m=\u001B[49m\u001B[43mtoken\u001B[49m\u001B[43m,\u001B[49m\n\u001B[32m   1024\u001B[39m \u001B[43m        \u001B[49m\u001B[38;5;66;43;03m# Additional options\u001B[39;49;00m\n\u001B[32m   1025\u001B[39m \u001B[43m        \u001B[49m\u001B[43mlocal_files_only\u001B[49m\u001B[43m=\u001B[49m\u001B[43mlocal_files_only\u001B[49m\u001B[43m,\u001B[49m\n\u001B[32m   1026\u001B[39m \u001B[43m        \u001B[49m\u001B[43mforce_download\u001B[49m\u001B[43m=\u001B[49m\u001B[43mforce_download\u001B[49m\u001B[43m,\u001B[49m\n\u001B[32m   1027\u001B[39m \u001B[43m    \u001B[49m\u001B[43m)\u001B[49m\n",
      "\u001B[36mFile \u001B[39m\u001B[32m/Library/Frameworks/Python.framework/Versions/3.11/lib/python3.11/site-packages/huggingface_hub/file_download.py:1171\u001B[39m, in \u001B[36m_hf_hub_download_to_cache_dir\u001B[39m\u001B[34m(cache_dir, repo_id, filename, repo_type, revision, endpoint, etag_timeout, headers, proxies, token, local_files_only, force_download)\u001B[39m\n\u001B[32m   1168\u001B[39m \u001B[38;5;66;03m# Local file doesn't exist or etag isn't a match => retrieve file from remote (or cache)\u001B[39;00m\n\u001B[32m   1170\u001B[39m \u001B[38;5;28;01mwith\u001B[39;00m WeakFileLock(lock_path):\n\u001B[32m-> \u001B[39m\u001B[32m1171\u001B[39m     \u001B[43m_download_to_tmp_and_move\u001B[49m\u001B[43m(\u001B[49m\n\u001B[32m   1172\u001B[39m \u001B[43m        \u001B[49m\u001B[43mincomplete_path\u001B[49m\u001B[43m=\u001B[49m\u001B[43mPath\u001B[49m\u001B[43m(\u001B[49m\u001B[43mblob_path\u001B[49m\u001B[43m \u001B[49m\u001B[43m+\u001B[49m\u001B[43m \u001B[49m\u001B[33;43m\"\u001B[39;49m\u001B[33;43m.incomplete\u001B[39;49m\u001B[33;43m\"\u001B[39;49m\u001B[43m)\u001B[49m\u001B[43m,\u001B[49m\n\u001B[32m   1173\u001B[39m \u001B[43m        \u001B[49m\u001B[43mdestination_path\u001B[49m\u001B[43m=\u001B[49m\u001B[43mPath\u001B[49m\u001B[43m(\u001B[49m\u001B[43mblob_path\u001B[49m\u001B[43m)\u001B[49m\u001B[43m,\u001B[49m\n\u001B[32m   1174\u001B[39m \u001B[43m        \u001B[49m\u001B[43murl_to_download\u001B[49m\u001B[43m=\u001B[49m\u001B[43murl_to_download\u001B[49m\u001B[43m,\u001B[49m\n\u001B[32m   1175\u001B[39m \u001B[43m        \u001B[49m\u001B[43mproxies\u001B[49m\u001B[43m=\u001B[49m\u001B[43mproxies\u001B[49m\u001B[43m,\u001B[49m\n\u001B[32m   1176\u001B[39m \u001B[43m        \u001B[49m\u001B[43mheaders\u001B[49m\u001B[43m=\u001B[49m\u001B[43mheaders\u001B[49m\u001B[43m,\u001B[49m\n\u001B[32m   1177\u001B[39m \u001B[43m        \u001B[49m\u001B[43mexpected_size\u001B[49m\u001B[43m=\u001B[49m\u001B[43mexpected_size\u001B[49m\u001B[43m,\u001B[49m\n\u001B[32m   1178\u001B[39m \u001B[43m        \u001B[49m\u001B[43mfilename\u001B[49m\u001B[43m=\u001B[49m\u001B[43mfilename\u001B[49m\u001B[43m,\u001B[49m\n\u001B[32m   1179\u001B[39m \u001B[43m        \u001B[49m\u001B[43mforce_download\u001B[49m\u001B[43m=\u001B[49m\u001B[43mforce_download\u001B[49m\u001B[43m,\u001B[49m\n\u001B[32m   1180\u001B[39m \u001B[43m        \u001B[49m\u001B[43metag\u001B[49m\u001B[43m=\u001B[49m\u001B[43metag\u001B[49m\u001B[43m,\u001B[49m\n\u001B[32m   1181\u001B[39m \u001B[43m        \u001B[49m\u001B[43mxet_file_data\u001B[49m\u001B[43m=\u001B[49m\u001B[43mxet_file_data\u001B[49m\u001B[43m,\u001B[49m\n\u001B[32m   1182\u001B[39m \u001B[43m    \u001B[49m\u001B[43m)\u001B[49m\n\u001B[32m   1183\u001B[39m     \u001B[38;5;28;01mif\u001B[39;00m \u001B[38;5;129;01mnot\u001B[39;00m os.path.exists(pointer_path):\n\u001B[32m   1184\u001B[39m         _create_symlink(blob_path, pointer_path, new_blob=\u001B[38;5;28;01mTrue\u001B[39;00m)\n",
      "\u001B[36mFile \u001B[39m\u001B[32m/Library/Frameworks/Python.framework/Versions/3.11/lib/python3.11/site-packages/huggingface_hub/file_download.py:1723\u001B[39m, in \u001B[36m_download_to_tmp_and_move\u001B[39m\u001B[34m(incomplete_path, destination_path, url_to_download, proxies, headers, expected_size, filename, force_download, etag, xet_file_data)\u001B[39m\n\u001B[32m   1721\u001B[39m \u001B[38;5;28;01mif\u001B[39;00m xet_file_data \u001B[38;5;129;01mis\u001B[39;00m \u001B[38;5;129;01mnot\u001B[39;00m \u001B[38;5;28;01mNone\u001B[39;00m \u001B[38;5;129;01mand\u001B[39;00m is_xet_available():\n\u001B[32m   1722\u001B[39m     logger.debug(\u001B[33m\"\u001B[39m\u001B[33mXet Storage is enabled for this repo. Downloading file from Xet Storage..\u001B[39m\u001B[33m\"\u001B[39m)\n\u001B[32m-> \u001B[39m\u001B[32m1723\u001B[39m     \u001B[43mxet_get\u001B[49m\u001B[43m(\u001B[49m\n\u001B[32m   1724\u001B[39m \u001B[43m        \u001B[49m\u001B[43mincomplete_path\u001B[49m\u001B[43m=\u001B[49m\u001B[43mincomplete_path\u001B[49m\u001B[43m,\u001B[49m\n\u001B[32m   1725\u001B[39m \u001B[43m        \u001B[49m\u001B[43mxet_file_data\u001B[49m\u001B[43m=\u001B[49m\u001B[43mxet_file_data\u001B[49m\u001B[43m,\u001B[49m\n\u001B[32m   1726\u001B[39m \u001B[43m        \u001B[49m\u001B[43mheaders\u001B[49m\u001B[43m=\u001B[49m\u001B[43mheaders\u001B[49m\u001B[43m,\u001B[49m\n\u001B[32m   1727\u001B[39m \u001B[43m        \u001B[49m\u001B[43mexpected_size\u001B[49m\u001B[43m=\u001B[49m\u001B[43mexpected_size\u001B[49m\u001B[43m,\u001B[49m\n\u001B[32m   1728\u001B[39m \u001B[43m        \u001B[49m\u001B[43mdisplayed_filename\u001B[49m\u001B[43m=\u001B[49m\u001B[43mfilename\u001B[49m\u001B[43m,\u001B[49m\n\u001B[32m   1729\u001B[39m \u001B[43m    \u001B[49m\u001B[43m)\u001B[49m\n\u001B[32m   1730\u001B[39m \u001B[38;5;28;01melse\u001B[39;00m:\n\u001B[32m   1731\u001B[39m     \u001B[38;5;28;01mif\u001B[39;00m xet_file_data \u001B[38;5;129;01mis\u001B[39;00m \u001B[38;5;129;01mnot\u001B[39;00m \u001B[38;5;28;01mNone\u001B[39;00m \u001B[38;5;129;01mand\u001B[39;00m \u001B[38;5;129;01mnot\u001B[39;00m constants.HF_HUB_DISABLE_XET:\n",
      "\u001B[36mFile \u001B[39m\u001B[32m/Library/Frameworks/Python.framework/Versions/3.11/lib/python3.11/site-packages/huggingface_hub/file_download.py:629\u001B[39m, in \u001B[36mxet_get\u001B[39m\u001B[34m(incomplete_path, xet_file_data, headers, expected_size, displayed_filename, _tqdm_bar)\u001B[39m\n\u001B[32m    626\u001B[39m \u001B[38;5;28;01mdef\u001B[39;00m\u001B[38;5;250m \u001B[39m\u001B[34mprogress_updater\u001B[39m(progress_bytes: \u001B[38;5;28mfloat\u001B[39m):\n\u001B[32m    627\u001B[39m     progress.update(progress_bytes)\n\u001B[32m--> \u001B[39m\u001B[32m629\u001B[39m \u001B[43mdownload_files\u001B[49m\u001B[43m(\u001B[49m\n\u001B[32m    630\u001B[39m \u001B[43m    \u001B[49m\u001B[43mxet_download_info\u001B[49m\u001B[43m,\u001B[49m\n\u001B[32m    631\u001B[39m \u001B[43m    \u001B[49m\u001B[43mendpoint\u001B[49m\u001B[43m=\u001B[49m\u001B[43mconnection_info\u001B[49m\u001B[43m.\u001B[49m\u001B[43mendpoint\u001B[49m\u001B[43m,\u001B[49m\n\u001B[32m    632\u001B[39m \u001B[43m    \u001B[49m\u001B[43mtoken_info\u001B[49m\u001B[43m=\u001B[49m\u001B[43m(\u001B[49m\u001B[43mconnection_info\u001B[49m\u001B[43m.\u001B[49m\u001B[43maccess_token\u001B[49m\u001B[43m,\u001B[49m\u001B[43m \u001B[49m\u001B[43mconnection_info\u001B[49m\u001B[43m.\u001B[49m\u001B[43mexpiration_unix_epoch\u001B[49m\u001B[43m)\u001B[49m\u001B[43m,\u001B[49m\n\u001B[32m    633\u001B[39m \u001B[43m    \u001B[49m\u001B[43mtoken_refresher\u001B[49m\u001B[43m=\u001B[49m\u001B[43mtoken_refresher\u001B[49m\u001B[43m,\u001B[49m\n\u001B[32m    634\u001B[39m \u001B[43m    \u001B[49m\u001B[43mprogress_updater\u001B[49m\u001B[43m=\u001B[49m\u001B[43m[\u001B[49m\u001B[43mprogress_updater\u001B[49m\u001B[43m]\u001B[49m\u001B[43m,\u001B[49m\n\u001B[32m    635\u001B[39m \u001B[43m\u001B[49m\u001B[43m)\u001B[49m\n",
      "\u001B[31mKeyboardInterrupt\u001B[39m: "
     ]
    }
   ],
   "execution_count": 26
  }
 ],
 "metadata": {
  "kernelspec": {
   "display_name": "Python 3",
   "language": "python",
   "name": "python3"
  },
  "language_info": {
   "codemirror_mode": {
    "name": "ipython",
    "version": 2
   },
   "file_extension": ".py",
   "mimetype": "text/x-python",
   "name": "python",
   "nbconvert_exporter": "python",
   "pygments_lexer": "ipython2",
   "version": "2.7.6"
  }
 },
 "nbformat": 4,
 "nbformat_minor": 5
}

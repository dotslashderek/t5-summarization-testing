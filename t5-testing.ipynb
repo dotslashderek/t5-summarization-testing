{
 "cells": [
  {
   "cell_type": "code",
   "id": "initial_id",
   "metadata": {
    "collapsed": true,
    "ExecuteTime": {
     "end_time": "2025-10-09T08:11:58.465570Z",
     "start_time": "2025-10-09T08:11:56.526047Z"
    }
   },
   "source": [
    "from datasets import load_dataset\n",
    "\n",
    "billsum = load_dataset(\"billsum\", split=\"ca_test\")"
   ],
   "outputs": [],
   "execution_count": 2
  },
  {
   "metadata": {
    "ExecuteTime": {
     "end_time": "2025-10-09T08:12:14.375796Z",
     "start_time": "2025-10-09T08:12:14.365800Z"
    }
   },
   "cell_type": "code",
   "source": "billsum = billsum.train_test_split(test_size=0.2)",
   "id": "32925bb249935767",
   "outputs": [],
   "execution_count": 3
  },
  {
   "metadata": {
    "ExecuteTime": {
     "end_time": "2025-10-09T08:12:30.897690Z",
     "start_time": "2025-10-09T08:12:30.887695Z"
    }
   },
   "cell_type": "code",
   "source": "billsum[\"train\"][0]",
   "id": "fc49e4a669c553dd",
   "outputs": [
    {
     "data": {
      "text/plain": [
       "{'text': 'The people of the State of California do enact as follows:\\n\\n\\nSECTION 1.\\nSection 23663 of the Revenue and Taxation Code is amended to read:\\n23663.\\n(a) (1) Notwithstanding any other law\\nto the contrary\\n, for each taxable year beginning on or after July 1, 2008, any credit allowed to a taxpayer under this chapter that is an eligible credit may be assigned by that taxpayer to any eligible assignee.\\n(2) A credit assigned under paragraph (1) may\\nonly\\nbe applied by the eligible assignee\\nonly\\nagainst the\\n“tax” (as\\n“tax,” as\\ndefined in Section\\n23036)\\n23036,\\nof the eligible assignee in a taxable year beginning on or after January 1, 2010.\\n(3) Except as specifically provided in this section, following an assignment of any eligible credit under this section, the eligible assignee shall be treated as if it originally earned the assigned credit.\\n(b) For purposes of this section, the following definitions shall apply:\\n(1) “Affiliated corporation” means a corporation that is a member of a commonly controlled group as defined in Section 25105.\\n(2) “Eligible credit” shall mean:\\n(A) Any credit earned by the taxpayer in a taxable year beginning on or after July 1, 2008, or\\n(B) Any credit earned in any taxable year beginning before July 1, 2008, that is eligible to be carried forward to the taxpayer’s first taxable year beginning on or after July 1, 2008, under the provisions of this part.\\n(3) “Eligible assignee” shall mean any affiliated corporation that is properly treated as a member of the same combined reporting group pursuant to Section 25101 or 25110 as the taxpayer assigning the eligible credit as of:\\n(A) In the case of credits earned in taxable years beginning before July 1, 2008:\\n(i) June 30, 2008, and\\n(ii) The last day of the taxable year of the assigning taxpayer in which the eligible credit is assigned.\\n(B) In the case of credits earned in taxable years beginning on or after July 1, 2008.\\n(i) The last day of the first taxable year in which the credit was allowed to the taxpayer, and\\n(ii) The last day of the taxable year of the assigning taxpayer in which the eligible credit is assigned.\\n(c) (1) The election to assign any credit under subdivision (a) shall be irrevocable once made, and shall be made by the taxpayer allowed that credit on its original return for the taxable year in which the assignment is made.\\n(2) The taxpayer assigning any credit under this section shall reduce the amount of its unused credit by the face amount of any credit assigned under this section, and the amount of the assigned credit shall not be available for application against the assigning taxpayer’s “tax” in any taxable year, nor shall it thereafter be included in the amount of any credit carryover of the assigning taxpayer.\\n(3) The eligible assignee of any credit under this section may apply all or any portion of the assigned credits against the “tax” of the eligible assignee for the taxable year in which the assignment occurs, or any subsequent taxable year, subject to any carryover period limitations that apply to the assigned credit and also subject to the limitation in paragraph (2) of subdivision (a).\\n(4)\\nIn no case may the\\nThe\\neligible assignee\\nshall not\\nsell, otherwise transfer, or thereafter assign the assigned credit to any other taxpayer.\\n(d) (1)\\nNo consideration\\nConsideration\\nshall\\nnot\\nbe required to be paid by the eligible assignee to the assigning taxpayer for assignment of any credit under this section.\\n(2) In the event that any consideration is paid by the eligible assignee to the assigning taxpayer for the transfer of an eligible credit under this section, then:\\n(A)\\nNo\\nA\\ndeduction shall\\nnot\\nbe allowed to the eligible assignee under this part with respect to any amounts so paid, and\\n(B)\\nNo amounts\\nAny amount\\nso received by the assigning taxpayer shall\\nnot\\nbe includable in gross income under this part.\\n(e) (1) The Franchise Tax Board shall specify the form and manner in which the election required under this section shall be made, as well as any necessary information that shall be required to be provided by the taxpayer assigning the credit to the eligible assignee.\\n(2) Any taxpayer who assigns any credit under this section shall report any information, in the form and manner specified by the Franchise Tax Board, necessary to substantiate any credit assigned under this section and verify the assignment and subsequent application of any assigned credit.\\n(3) Chapter 3.5 (commencing with Section 11340) of Part 1 of Division 3 of Title 2 of the Government Code shall not apply to any standard, criterion, procedure, determination, rule, notice, or guideline established or issued by the Franchise Tax Board pursuant to paragraphs (1) and (2).\\n(4) The Franchise Tax Board may issue any\\nregulations\\nregulation\\nnecessary to implement the purposes of this section, including any\\nregulations\\nregulation\\nnecessary to specify the treatment of any assignment that does not comply with\\nthe requirements of\\nthis section (including, for example,\\nwhere\\nif\\nthe taxpayer and eligible assignee are not properly treated as members of the same combined reporting group on any of the dates specified in paragraph (3) of subdivision (b).\\n(f) (1) The taxpayer and the eligible assignee shall be jointly and severally liable for any tax, addition to tax, or penalty that results from the disallowance, in whole or in part, of any eligible credit assigned under this section.\\n(2)\\nNothing in this\\nThis\\nsection shall\\nnot\\nlimit the authority of the Franchise Tax Board to audit either the assigning taxpayer or the eligible assignee with respect to any eligible credit assigned under this section.\\n(g) On or before June 30, 2013, the Franchise Tax Board shall report to the Joint Legislative Budget Committee, the Legislative Analyst, and the relevant policy committees of both houses on the effects of this section. The report shall include, but need not be limited to, the following:\\n(1) An estimate of use of credits in the 2010 and 2011 taxable years by eligible taxpayers.\\n(2) An analysis of effect of this section on expanding business activity in the state related to these credits.\\n(3) An estimate of the resulting tax revenue loss to the state.\\n(4) The report shall cover all credits covered in this section, but focus on the credits related to research and development, economic incentive areas, and low-income housing.',\n",
       " 'summary': 'The Corporation Tax Law allows various credits against the taxes imposed by that law. That law allows, for each taxable year beginning on or after July 1, 2008, any credit that is an eligible credit, as defined, to be assigned to any eligible assignee, as defined.\\nThis bill would make technical, nonsubstantive changes to this provision.',\n",
       " 'title': 'An act to amend Section 23663 of the Revenue and Taxation Code, relating to taxation.'}"
      ]
     },
     "execution_count": 4,
     "metadata": {},
     "output_type": "execute_result"
    }
   ],
   "execution_count": 4
  },
  {
   "metadata": {
    "ExecuteTime": {
     "end_time": "2025-10-09T08:38:34.694079Z",
     "start_time": "2025-10-09T08:38:34.689528Z"
    }
   },
   "cell_type": "code",
   "source": "billsum['test'][0]",
   "id": "83a270069a2c2e23",
   "outputs": [
    {
     "data": {
      "text/plain": [
       "{'text': 'The people of the State of California do enact as follows:\\n\\n\\nSECTION 1.\\nSection 222.5 of the Code of Civil Procedure is amended to read:\\n222.5.\\n(a) To select a fair and impartial jury in civil jury trials, the court shall examine the prospective jurors. Upon completion of the court’s initial examination, counsel for each party shall have the right to examine, by oral and direct questioning, any of the prospective jurors so that counsel may intelligently exercise both peremptory challenges and challenges for cause. During any examination conducted by counsel for the parties, the court should permit liberal and probing examination calculated to discover bias or prejudice with regard to the circumstances of the particular case. The fact that a topic has been included in the court’s examination should not preclude additional nonrepetitive or nonduplicative questioning in the same area by counsel.\\n(b) To help facilitate the jury selection process, the court in civil trials should provide to counsel for each party the complete names of the prospective jurors, both alphabetically and in the order in which they will be called.\\n(c) The court should allow a brief opening statement by counsel for each party before the commencement of the oral questioning phase of the voir dire process.\\n(d) The scope of the examination conducted by counsel shall be within reasonable limits prescribed by the court in the court’s sound discretion. In exercising its sound discretion as to the form and subject matter of voir dire questions, the court should consider, among other criteria, any unique or complex elements, legal or factual, in the case and the individual responses or conduct of jurors that may evince attitudes inconsistent with suitability to serve as a fair and impartial juror in the particular case. Specific unreasonable or arbitrary time limits shall not be imposed in any case. The court shall not establish a blanket policy of a time limit for voir dire.\\n(e) The court should permit counsel to conduct voir dire examination without requiring prior submission of the questions unless a particular counsel engages in improper questioning. For purposes of this section, an “improper question” is any question that, as its dominant purpose, attempts to precondition the prospective jurors to a particular result, indoctrinate the jury, or question the prospective jurors concerning the pleadings or the applicable law. A court shall not arbitrarily or unreasonably refuse to submit reasonable written questionnaires, the contents of which are determined by the court in its sound discretion, when requested by counsel. If a questionnaire is used, the parties should be given reasonable time to evaluate the responses to the questionnaires before oral questioning commences.\\n(f) In civil cases, the court may, upon stipulation by counsel for all the parties appearing in the action, permit counsel to examine the prospective jurors outside the court’s presence.\\nSEC. 2.\\nSection 223 of the Code of Civil Procedure is amended to read:\\n223.\\n(a) In a criminal case, the court shall conduct an initial examination of prospective jurors. The court may submit to the prospective jurors additional questions requested by the parties as it deems proper.\\n(b) The court shall provide to counsel for each party the complete names of the prospective jurors, both alphabetically and in the order in which they will be called. However, the court, in each criminal trial, shall determine a uniform manner by which each prospective juror shall be addressed by the court and counsel for each party, according to one of the following:\\n(1) An identification number assigned by the court.\\n(2) The prospective juror’s first name and the first initial of his or her last name.\\n(3) The prospective juror’s title and last name.\\n(c) Before examining prospective jurors, the court shall advise them that, in accordance with state law, the court and counsel for each party are prohibited, in all criminal cases, from addressing prospective jurors by their full names during jury selection, and are required to address each prospective juror by an identification number, by his or her first name and the first initial of his or her last name, or by his or her title and last name.\\n(d) Upon completion of the court’s initial examination, counsel for each party shall have the right to examine, by oral and direct questioning, any or all of the prospective jurors. The court may, in the exercise of its discretion, limit the oral and direct questioning of prospective jurors by counsel. The court may specify the maximum amount of time that counsel for each party may question an individual juror, or may specify an aggregate amount of time for each party, which can then be allocated among the prospective jurors by counsel.\\n(e) Voir dire of prospective jurors shall, where practicable, occur in the presence of the other jurors in all criminal cases, including death penalty cases. Examination of prospective jurors shall be conducted only in aid of the exercise of challenges for cause.\\n(f) The court’s exercise of its discretion in the manner in which voir dire is conducted, including any limitation on the time which will be allowed for direct questioning of prospective jurors by counsel and any determination that a question is not in aid of the exercise of challenges for cause, shall not cause any conviction to be reversed unless the exercise of that discretion has resulted in a miscarriage of justice, as specified in Section 13 of Article VI of the California Constitution.\\n(g) This section does not limit public access to juror information, as provided for under Section 237.\\n(h) This section shall remain in effect only until January 1, 2022, and as of that date is repealed, unless a later enacted statute, that is enacted before January 1, 2022, deletes or extends that date.\\nSEC. 3.\\nSection 223 is added to the Code of Civil Procedure, to read:\\n223.\\n(a) In a criminal case, the court shall conduct an initial examination of prospective jurors. The court may submit to the prospective jurors additional questions requested by the parties as it deems proper. Upon completion of the court’s initial examination, counsel for each party shall have the right to examine, by oral and direct questioning, any or all of the prospective jurors. The court may, in the exercise of its discretion, limit the oral and direct questioning of prospective jurors by counsel. The court may specify the maximum amount of time that counsel for each party may question an individual juror, or may specify an aggregate amount of time for each party, which can then be allocated among the prospective jurors by counsel. Voir dire of any prospective jurors shall, where practicable, occur in the presence of the other jurors in all criminal cases, including death penalty cases. Examination of prospective jurors shall be conducted only in aid of the exercise of challenges for cause.\\n(b) The trial court’s exercise of its discretion in the manner in which voir dire is conducted, including any limitation on the time which will be allowed for direct questioning of prospective jurors by counsel and any determination that a question is not in aid of the exercise of challenges for cause, shall not cause any conviction to be reversed unless the exercise of that discretion has resulted in a miscarriage of justice, as specified in Section 13 of Article VI of the California Constitution.\\n(c) This section is operative on and after January 1, 2022.',\n",
       " 'summary': '(1)\\xa0In civil trials, existing law requires a trial judge to examine prospective jurors, and, upon completion of the judge’s examination, grants counsel for each party the right to examine, by oral and direct questioning, any prospective juror in order to enable counsel to intelligently exercise peremptory challenges and challenges for cause. Existing law provides that the judge in civil trials should provide the parties with both the alphabetical list and the list of prospective jurors in the order in which they will be called.\\nThis bill would make nonsubstantive changes to these provisions.\\n(2)\\xa0Under existing law, which was enacted by initiative measure, in a criminal case, the court is required to conduct the examination of prospective jurors, except that the court may permit the parties, upon a showing of good cause, to conduct a further inquiry. The initiative measure provides that it may be amended by a measure enacted by a\\n2/3\\nvote of each house.\\nThis bill would, until January 1, 2022, in criminal trials, require the court to provide the complete names of prospective jurors to counsel for each party, as specified. The bill would also require the court and counsel for each party to address a prospective juror using a number assigned by the court, by the prospective juror’s first name and first initial of his or her last name, or by his or her title and last name, as determined by the court in each criminal trial. The bill would also make nonsubstantive changes to these provisions.',\n",
       " 'title': 'An act to amend Section 222.5 of, and to amend, repeal, and add Section 223 of, the Code of Civil Procedure, relating to jurors.'}"
      ]
     },
     "execution_count": 23,
     "metadata": {},
     "output_type": "execute_result"
    }
   ],
   "execution_count": 23
  },
  {
   "metadata": {
    "ExecuteTime": {
     "end_time": "2025-10-09T08:13:15.459193Z",
     "start_time": "2025-10-09T08:13:15.030429Z"
    }
   },
   "cell_type": "code",
   "source": [
    "from transformers import AutoTokenizer\n",
    "\n",
    "checkpoint = \"google-t5/t5-small\"\n",
    "tokenizer = AutoTokenizer.from_pretrained(checkpoint)"
   ],
   "id": "6196304f90e8d7a2",
   "outputs": [],
   "execution_count": 6
  },
  {
   "metadata": {
    "ExecuteTime": {
     "end_time": "2025-10-09T08:14:57.601904Z",
     "start_time": "2025-10-09T08:14:57.597691Z"
    }
   },
   "cell_type": "code",
   "source": [
    "prefix = \"summarize: \"\n",
    "\n",
    "\n",
    "def preprocess_function(examples):\n",
    "    inputs = [prefix + doc for doc in examples[\"text\"]]\n",
    "    model_inputs = tokenizer(inputs, max_length=1024, truncation=True)\n",
    "    print(model_inputs[0])\n",
    "    labels = tokenizer(text_target=examples[\"summary\"], max_length=128, truncation=True)\n",
    "    print(labels[0])\n",
    "    model_inputs[\"labels\"] = labels[\"input_ids\"]\n",
    "    return model_inputs"
   ],
   "id": "7811c0ebfdd2bbe6",
   "outputs": [],
   "execution_count": 9
  },
  {
   "metadata": {
    "ExecuteTime": {
     "end_time": "2025-10-09T08:15:17.292184Z",
     "start_time": "2025-10-09T08:15:15.980011Z"
    }
   },
   "cell_type": "code",
   "source": "tokenized_billsum = billsum.map(preprocess_function, batched=True)",
   "id": "d5045fe6e704a860",
   "outputs": [
    {
     "name": "stderr",
     "output_type": "stream",
     "text": [
      "Map:   0%|          | 0/989 [00:00<?, ? examples/s]"
     ]
    },
    {
     "name": "stdout",
     "output_type": "stream",
     "text": [
      "Encoding(num_tokens=1024, attributes=[ids, type_ids, tokens, offsets, attention_mask, special_tokens_mask, overflowing])\n",
      "Encoding(num_tokens=72, attributes=[ids, type_ids, tokens, offsets, attention_mask, special_tokens_mask, overflowing])\n"
     ]
    },
    {
     "name": "stderr",
     "output_type": "stream",
     "text": [
      "Map: 100%|██████████| 989/989 [00:01<00:00, 956.99 examples/s]\n",
      "Map: 100%|██████████| 248/248 [00:00<00:00, 951.60 examples/s]"
     ]
    },
    {
     "name": "stdout",
     "output_type": "stream",
     "text": [
      "Encoding(num_tokens=1024, attributes=[ids, type_ids, tokens, offsets, attention_mask, special_tokens_mask, overflowing])\n",
      "Encoding(num_tokens=128, attributes=[ids, type_ids, tokens, offsets, attention_mask, special_tokens_mask, overflowing])\n"
     ]
    },
    {
     "name": "stderr",
     "output_type": "stream",
     "text": [
      "\n"
     ]
    }
   ],
   "execution_count": 10
  },
  {
   "metadata": {
    "ExecuteTime": {
     "end_time": "2025-10-09T08:15:45.209422Z",
     "start_time": "2025-10-09T08:15:45.187433Z"
    }
   },
   "cell_type": "code",
   "source": [
    "from transformers import DataCollatorForSeq2Seq\n",
    "\n",
    "data_collator = DataCollatorForSeq2Seq(tokenizer=tokenizer, model=checkpoint)"
   ],
   "id": "9e8c9c14ece7341a",
   "outputs": [],
   "execution_count": 11
  },
  {
   "metadata": {
    "ExecuteTime": {
     "end_time": "2025-10-09T08:37:03.344240Z",
     "start_time": "2025-10-09T08:37:00.650418Z"
    }
   },
   "cell_type": "code",
   "source": [
    "import evaluate\n",
    "\n",
    "rouge = evaluate.load(\"rouge\")"
   ],
   "id": "f696662e2a03c0c3",
   "outputs": [],
   "execution_count": 20
  },
  {
   "metadata": {
    "ExecuteTime": {
     "end_time": "2025-10-09T08:37:40.960525Z",
     "start_time": "2025-10-09T08:37:40.954287Z"
    }
   },
   "cell_type": "code",
   "source": [
    "import numpy as np\n",
    "\n",
    "\n",
    "def compute_metrics(eval_pred):\n",
    "    predictions, labels = eval_pred\n",
    "    decoded_preds = tokenizer.batch_decode(predictions, skip_special_tokens=True)\n",
    "    labels = np.where(labels != -100, labels, tokenizer.pad_token_id)\n",
    "    decoded_labels = tokenizer.batch_decode(labels, skip_special_tokens=True)\n",
    "\n",
    "    result = rouge.compute(predictions=decoded_preds, references=decoded_labels, use_stemmer=True)\n",
    "\n",
    "    prediction_lens = [np.count_nonzero(pred != tokenizer.pad_token_id) for pred in predictions]\n",
    "    result[\"gen_len\"] = np.mean(prediction_lens)\n",
    "\n",
    "    return {k: round(v, 4) for k, v in result.items()}"
   ],
   "id": "e397dc3118f6e8ea",
   "outputs": [],
   "execution_count": 21
  },
  {
   "metadata": {
    "ExecuteTime": {
     "end_time": "2025-10-09T08:39:16.726133Z",
     "start_time": "2025-10-09T08:39:15.844896Z"
    }
   },
   "cell_type": "code",
   "source": [
    "from transformers import AutoModelForSeq2SeqLM, Seq2SeqTrainingArguments, Seq2SeqTrainer\n",
    "\n",
    "model = AutoModelForSeq2SeqLM.from_pretrained(checkpoint)"
   ],
   "id": "d088bf1603331a8f",
   "outputs": [],
   "execution_count": 25
  }
 ],
 "metadata": {
  "kernelspec": {
   "display_name": "Python 3",
   "language": "python",
   "name": "python3"
  },
  "language_info": {
   "codemirror_mode": {
    "name": "ipython",
    "version": 2
   },
   "file_extension": ".py",
   "mimetype": "text/x-python",
   "name": "python",
   "nbconvert_exporter": "python",
   "pygments_lexer": "ipython2",
   "version": "2.7.6"
  }
 },
 "nbformat": 4,
 "nbformat_minor": 5
}

{
  "cells": [
    {
      "cell_type": "markdown",
      "metadata": {},
      "source": [
        "# Initial Synthetic Data Generation \u00b7 Variant Workflow\n\nThis notebook preserves the second-generation experiment where the model produced two stylistic variants alongside the compressed prompt. The results were noisier, but the flow remains available for future exploration."
      ]
    },
    {
      "cell_type": "markdown",
      "metadata": {},
      "source": [
        "## Usage\n\n1. Run the primary generation notebook first so the baseline dataset exists.\n2. Adjust `limit` as needed (or leave `None` to process all pending rows).\n3. Execute the generation cell to update `src/training_data/dolly-prompt-compression-v2.csv`."
      ]
    },
    {
      "cell_type": "code",
      "execution_count": null,
      "metadata": {},
      "outputs": [],
      "source": [
        "from workflows.generation import variant_config, run_generation, summarize_dataset"
      ]
    },
    {
      "cell_type": "code",
      "execution_count": null,
      "metadata": {},
      "outputs": [],
      "source": [
        "limit = None\nconfig = variant_config(limit=limit)"
      ]
    },
    {
      "cell_type": "code",
      "execution_count": null,
      "metadata": {},
      "outputs": [],
      "source": [
        "run_generation(config)"
      ]
    },
    {
      "cell_type": "code",
      "execution_count": null,
      "metadata": {},
      "outputs": [],
      "source": [
        "summarize_dataset(config.output_path)"
      ]
    }
  ],
  "metadata": {
    "kernelspec": {
      "display_name": "Python 3",
      "language": "python",
      "name": "python3"
    },
    "language_info": {
      "name": "python",
      "version": "3.11"
    }
  },
  "nbformat": 4,
  "nbformat_minor": 5
}
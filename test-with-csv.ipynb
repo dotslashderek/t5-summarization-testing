{
 "cells": [
  {
   "cell_type": "code",
   "id": "initial_id",
   "metadata": {
    "collapsed": true,
    "ExecuteTime": {
     "end_time": "2025-10-14T23:10:33.022118Z",
     "start_time": "2025-10-14T23:10:33.000879Z"
    }
   },
   "source": [
    "import csv\n",
    "\n",
    "input_path = 'training_data/validation_examples.csv'\n",
    "output_path = 'training_data/validation_examples_repaired.csv'\n",
    "\n",
    "with open(input_path, 'r', encoding='utf-8') as infile, open(output_path, 'w', encoding='utf-8', newline='') as outfile:\n",
    "    reader = csv.reader(infile)\n",
    "    writer = csv.writer(outfile)\n",
    "    header = next(reader)\n",
    "    writer.writerow(header)\n",
    "    good, bad = 0, 0\n",
    "    for row in reader:\n",
    "        if len(row) == 4:\n",
    "            writer.writerow(row)\n",
    "            good += 1\n",
    "        else:\n",
    "            bad += 1\n",
    "print(f\"Repair complete. {good} good rows written, {bad} bad rows skipped. Cleaned file: {output_path}\")\n"
   ],
   "outputs": [
    {
     "name": "stdout",
     "output_type": "stream",
     "text": [
      "Repair complete. 1527 good rows written, 4 bad rows skipped. Cleaned file: training_data/validation_examples_repaired.csv\n"
     ]
    }
   ],
   "execution_count": 3
  },
  {
   "metadata": {
    "ExecuteTime": {
     "end_time": "2025-10-14T23:11:50.453569Z",
     "start_time": "2025-10-14T23:11:50.418763Z"
    }
   },
   "cell_type": "code",
   "source": [
    "import pandas as pd\n",
    "\n",
    "input_path = 'training_data/validation_examples_repaired.csv'\n",
    "output_path = 'training_data/validation_examples_trimmed.csv'\n",
    "\n",
    "def trim_csv(input_path, output_path, chunk_size=500):\n",
    "    first = True\n",
    "    for chunk in pd.read_csv(input_path, chunksize=chunk_size):\n",
    "        trimmed = chunk[['original', 'summarization']]\n",
    "        trimmed.to_csv(output_path, mode='w' if first else 'a', index=False, header=first)\n",
    "        first = False\n",
    "\n",
    "trim_csv(input_path, output_path)\n",
    "print(f\"Trimmed CSV written to {output_path}\")\n"
   ],
   "id": "f10eb14d8369d86e",
   "outputs": [
    {
     "name": "stdout",
     "output_type": "stream",
     "text": [
      "Trimmed CSV written to training_data/validation_examples_trimmed.csv\n"
     ]
    }
   ],
   "execution_count": 4
  },
  {
   "metadata": {
    "ExecuteTime": {
     "end_time": "2025-10-14T23:18:47.974329Z",
     "start_time": "2025-10-14T23:18:20.739776Z"
    }
   },
   "cell_type": "code",
   "source": [
    "import pandas as pd\n",
    "from transformers import pipeline\n",
    "from evaluate import load\n",
    "\n",
    "# Load trimmed CSV\n",
    "input_path = 'training_data/validation_examples_trimmed.csv'\n",
    "df = pd.read_csv(input_path)\n",
    "\n",
    "# Randomly select 10 examples\n",
    "sample = df.sample(n=10, random_state=42)\n",
    "\n",
    "# Load summarization pipeline (facebook/bart-large-cnn)\n",
    "summarizer = pipeline('summarization', model='facebook/bart-large-cnn')\n",
    "rouge = load('rouge')\n",
    "\n",
    "generated_summaries = []\n",
    "reference_summaries = []\n",
    "\n",
    "for idx, row in sample.iterrows():\n",
    "    prompt = row['original']\n",
    "    reference = row['summarization']\n",
    "    # Optionally prepend 'summarize: ' for consistency with test-summarization-model\n",
    "    # prompt = 'summarize: ' + prompt\n",
    "    result = summarizer(prompt, max_length=200, min_length=10, do_sample=False)\n",
    "    generated = result[0]['summary_text']\n",
    "    generated_summaries.append(generated)\n",
    "    reference_summaries.append(reference)\n",
    "    print(f\"\\nPrompt: {prompt}\\nGenerated: {generated}\\nReference: {reference}\")\n",
    "\n",
    "# Compute ROUGE scores\n",
    "scores = rouge.compute(predictions=generated_summaries, references=reference_summaries)\n",
    "print(\"\\nROUGE scores (aggregated):\")\n",
    "for k, v in scores.items():\n",
    "    print(f\"{k}: {v:.4f}\")\n",
    "\n",
    "print(\"\\nROUGE-L for each example:\")\n",
    "for i, (gen, ref) in enumerate(zip(generated_summaries, reference_summaries)):\n",
    "    score = rouge.compute(predictions=[gen], references=[ref])\n",
    "    print(f\"Example {i+1}: ROUGE-L: {score['rougeL']:.4f}\")\n"
   ],
   "id": "1ba78a06358b7ee4",
   "outputs": [
    {
     "name": "stderr",
     "output_type": "stream",
     "text": [
      "/Users/dotslashderek/workspace/Gravitee/t5-summarization-testing/.venv/lib/python3.11/site-packages/tqdm/auto.py:21: TqdmWarning: IProgress not found. Please update jupyter and ipywidgets. See https://ipywidgets.readthedocs.io/en/stable/user_install.html\n",
      "  from .autonotebook import tqdm as notebook_tqdm\n",
      "Device set to use mps:0\n",
      "Your max_length is set to 200, but your input_length is only 57. Since this is a summarization task, where outputs shorter than the input are typically wanted, you might consider decreasing max_length manually, e.g. summarizer('...', max_length=28)\n",
      "Your max_length is set to 200, but your input_length is only 17. Since this is a summarization task, where outputs shorter than the input are typically wanted, you might consider decreasing max_length manually, e.g. summarizer('...', max_length=8)\n"
     ]
    },
    {
     "name": "stdout",
     "output_type": "stream",
     "text": [
      "\n",
      "Prompt: We’re a small tech company migrating from on-prem infrastructure to AWS. Our team lacks cloud expertise but must ensure security and uptime during transition. Could you propose a phased migration plan with architecture recommendations, compliance checkpoints, and rollback procedures that allow zero downtime?\n",
      "Generated: Small tech company migrating from on-prem infrastructure to AWS. Company lacks cloud expertise but must ensure security and uptime. Could you propose a phased migration plan with architecture recommendations, compliance checkpoints, and rollback procedures that allow zero downtime?\n",
      "Reference: Create a phased AWS migration plan for a small tech firm including architecture design, security compliance, and rollback options ensuring zero downtime.\n"
     ]
    },
    {
     "name": "stderr",
     "output_type": "stream",
     "text": [
      "Your max_length is set to 200, but your input_length is only 58. Since this is a summarization task, where outputs shorter than the input are typically wanted, you might consider decreasing max_length manually, e.g. summarizer('...', max_length=29)\n"
     ]
    },
    {
     "name": "stdout",
     "output_type": "stream",
     "text": [
      "\n",
      "Prompt: Describe the steps to create a secure password and tips for remembering it.\n",
      "Generated: . Describe the steps to create a secure password and tips for remembering it.\n",
      "Reference: List steps to create a secure password and tips for remembering it.\n"
     ]
    },
    {
     "name": "stderr",
     "output_type": "stream",
     "text": [
      "Your max_length is set to 200, but your input_length is only 59. Since this is a summarization task, where outputs shorter than the input are typically wanted, you might consider decreasing max_length manually, e.g. summarizer('...', max_length=29)\n"
     ]
    },
    {
     "name": "stdout",
     "output_type": "stream",
     "text": [
      "\n",
      "Prompt: I’m drafting a policy memo on the ethics of AI surveillance in public spaces. Include background, stakeholder analysis, risk taxonomy (privacy, chilling effects, bias), and potential regulatory responses. Suggest international comparisons and propose a balanced framework preserving safety and civil liberties.\n",
      "Generated: I’m drafting a policy memo on the ethics of AI surveillance in public spaces. Include background, stakeholder analysis, risk taxonomy (privacy, chilling effects, bias) Suggest international comparisons and propose a balanced framework preserving safety and civil liberties.\n",
      "Reference: I’m drafting a policy memo on the ethics of AI surveillance in public spaces. Include background, stakeholder analysis, risk taxonomy (privacy, chilling effects, bias), and potential regulatory responses.\n"
     ]
    },
    {
     "name": "stderr",
     "output_type": "stream",
     "text": [
      "Your max_length is set to 200, but your input_length is only 45. Since this is a summarization task, where outputs shorter than the input are typically wanted, you might consider decreasing max_length manually, e.g. summarizer('...', max_length=22)\n"
     ]
    },
    {
     "name": "stdout",
     "output_type": "stream",
     "text": [
      "\n",
      "Prompt: Could you help design a science club for high school students? Please include: (1) ideas for weekly activities, (2) tips for recruiting members, (3) advice for involving parents, (4) ways to showcase student projects, and (5) resources for learning more.\n",
      "Generated: Could you help design a science club for high school students? Please include: (1) ideas for weekly activities, (2) tips for recruiting members, (3) advice for involving parents.\n",
      "Reference: High school science club: weekly activities, member recruitment, parent involvement, project showcases, and learning resources.\n"
     ]
    },
    {
     "name": "stderr",
     "output_type": "stream",
     "text": [
      "Your max_length is set to 200, but your input_length is only 60. Since this is a summarization task, where outputs shorter than the input are typically wanted, you might consider decreasing max_length manually, e.g. summarizer('...', max_length=30)\n"
     ]
    },
    {
     "name": "stdout",
     "output_type": "stream",
     "text": [
      "\n",
      "Prompt: I’m preparing an investor brief for a company developing solid‑state batteries. Outline technology readiness, supply‑chain dependencies, competitive analysis, and scaling challenges. Include risk factors and policy incentives supporting adoption.\n",
      "Generated: I’m preparing an investor brief for a company developing solid‑state batteries. Outline technology readiness, supply‑chain dependencies and competitive analysis. Include risk factors and policy incentives supporting adoption.\n",
      "Reference: I’m preparing an investor brief for a company developing solid‑state batteries. Outline technology readiness, supply‑chain dependencies, competitive analysis, and scaling challenges.\n"
     ]
    },
    {
     "name": "stderr",
     "output_type": "stream",
     "text": [
      "Your max_length is set to 200, but your input_length is only 38. Since this is a summarization task, where outputs shorter than the input are typically wanted, you might consider decreasing max_length manually, e.g. summarizer('...', max_length=19)\n"
     ]
    },
    {
     "name": "stdout",
     "output_type": "stream",
     "text": [
      "\n",
      "Prompt: Write a technical explainer for a general audience comparing neural radiance fields (NeRFs) and traditional 3D modeling. Cover underlying principles, computational trade-offs, and practical use cases (AR/VR, film, gaming). End with a future outlook section and open research questions.\n",
      "Generated: Write a technical explainer for a general audience comparing neural radiance fields (NeRFs) and traditional 3D modeling. Cover underlying principles, computational trade-offs, and practical use cases. End with a future outlook section and open research questions.\n",
      "Reference: Write a technical explainer for a general audience comparing neural radiance fields (NeRFs) and traditional 3D modeling. Cover underlying principles, computational trade-offs, and practical use cases (AR/VR, film, gaming).\n"
     ]
    },
    {
     "name": "stderr",
     "output_type": "stream",
     "text": [
      "Your max_length is set to 200, but your input_length is only 42. Since this is a summarization task, where outputs shorter than the input are typically wanted, you might consider decreasing max_length manually, e.g. summarizer('...', max_length=21)\n"
     ]
    },
    {
     "name": "stdout",
     "output_type": "stream",
     "text": [
      "\n",
      "Prompt: I’m helping a national park service redesign its visitor experience to balance conservation and tourism. Could you propose visitor flow management, interpretive design, and partnerships with local businesses?\n",
      "Generated: A national park service is redesigning its visitor experience to balance conservation and tourism. Could you propose visitor flow management, interpretive design, and partnerships with local businesses?\n",
      "Reference: Develop a sustainable park tourism strategy combining visitor flow design, educational interpretation, and local business collaboration.\n"
     ]
    },
    {
     "name": "stderr",
     "output_type": "stream",
     "text": [
      "Your max_length is set to 200, but your input_length is only 33. Since this is a summarization task, where outputs shorter than the input are typically wanted, you might consider decreasing max_length manually, e.g. summarizer('...', max_length=16)\n"
     ]
    },
    {
     "name": "stdout",
     "output_type": "stream",
     "text": [
      "\n",
      "Prompt: I’m creating an interactive public website to visualize air pollution exposure data by neighborhood. Could you propose design principles, accessibility features, and communication strategies that balance scientific accuracy with clarity for the public?\n",
      "Generated: I’m creating an interactive public website to visualize air pollution exposure data by neighborhood. Could you propose design principles, accessibility features, and communication strategies that balance scientific accuracy with clarity for the public?\n",
      "Reference: Develop a public-facing air pollution visualization site with accessible design, clear storytelling, and scientifically accurate communication.\n"
     ]
    },
    {
     "name": "stderr",
     "output_type": "stream",
     "text": [
      "Your max_length is set to 200, but your input_length is only 48. Since this is a summarization task, where outputs shorter than the input are typically wanted, you might consider decreasing max_length manually, e.g. summarizer('...', max_length=24)\n"
     ]
    },
    {
     "name": "stdout",
     "output_type": "stream",
     "text": [
      "\n",
      "Prompt: Our performing arts center wants to become a carbon-neutral venue within five years. Could you outline operational upgrades, renewable procurement options, and audience engagement programs?\n",
      "Generated: Performing arts center wants to become a carbon-neutral venue within five years. Could you outline operational upgrades, renewable procurement options, and audience engagement programs?\n",
      "Reference: Create a five-year carbon-neutral plan for a performing arts venue including facility upgrades, renewable sourcing, and audience engagement.\n",
      "\n",
      "Prompt: Our university’s research office wants a standardized way to showcase faculty projects online. Could you design a data schema, submission workflow, and tagging system that help students and partners discover relevant work? Include long-term maintenance ideas.\n",
      "Generated: Our university’s research office wants a standardized way to showcase faculty projects online. Could you design a data schema, submission workflow, and tagging system? Include long-term maintenance ideas.\n",
      "Reference: Design a searchable faculty-project showcase for a university: define data schema, submission workflow, tagging taxonomy, and a sustainable maintenance plan.\n",
      "\n",
      "ROUGE scores (aggregated):\n",
      "rouge1: 0.5740\n",
      "rouge2: 0.3824\n",
      "rougeL: 0.5125\n",
      "rougeLsum: 0.5088\n",
      "\n",
      "ROUGE-L for each example:\n",
      "Example 1: ROUGE-L: 0.3279\n",
      "Example 2: ROUGE-L: 0.8800\n",
      "Example 3: ROUGE-L: 0.7761\n"
     ]
    },
    {
     "name": "stderr",
     "output_type": "stream",
     "text": [
      "huggingface/tokenizers: The current process just got forked, after parallelism has already been used. Disabling parallelism to avoid deadlocks...\n",
      "To disable this warning, you can either:\n",
      "\t- Avoid using `tokenizers` before the fork if possible\n",
      "\t- Explicitly set the environment variable TOKENIZERS_PARALLELISM=(true | false)\n"
     ]
    },
    {
     "name": "stdout",
     "output_type": "stream",
     "text": [
      "Example 4: ROUGE-L: 0.1860\n",
      "Example 5: ROUGE-L: 0.8148\n",
      "Example 6: ROUGE-L: 0.7941\n",
      "Example 7: ROUGE-L: 0.3721\n",
      "Example 8: ROUGE-L: 0.2353\n",
      "Example 9: ROUGE-L: 0.4000\n",
      "Example 10: ROUGE-L: 0.3529\n"
     ]
    }
   ],
   "execution_count": 5
  },
  {
   "metadata": {},
   "cell_type": "code",
   "outputs": [],
   "execution_count": null,
   "source": [
    "!pip install evaluate rouge_score\n",
    "\n",
    "# 1. Log in to Hugging Face\n",
    "from huggingface_hub import notebook_login\n",
    "from google.colab import userdata\n",
    "\n",
    "userdata.get('HF_TOKEN')\n",
    "notebook_login()\n",
    "\n",
    "# 2. Read CSV and split into train/test\n",
    "import pandas as pd\n",
    "from sklearn.model_selection import train_test_split\n",
    "\n",
    "csv_path = 'sample_data/validation_examples_trimmed.csv'\n",
    "df = pd.read_csv(csv_path)\n",
    "train_df, test_df = train_test_split(df, test_size=0.15, random_state=42)\n",
    "\n",
    "# 3. Convert to Hugging Face Dataset\n",
    "from datasets import Dataset, DatasetDict\n",
    "\n",
    "train_dataset = Dataset.from_pandas(train_df, preserve_index=False)\n",
    "test_dataset = Dataset.from_pandas(test_df, preserve_index=False)\n",
    "dataset = DatasetDict({'train': train_dataset, 'test': test_dataset})\n",
    "\n",
    "# 4. Load tokenizer and model\n",
    "from transformers import (\n",
    "    AutoTokenizer, AutoModelForSeq2SeqLM,\n",
    "    DataCollatorForSeq2Seq,\n",
    "    Seq2SeqTrainingArguments,\n",
    "    Seq2SeqTrainer\n",
    ")\n",
    "\n",
    "model_checkpoint = \"facebook/bart-large-cnn\"\n",
    "tokenizer = AutoTokenizer.from_pretrained(model_checkpoint)\n",
    "\n",
    "# 5. Preprocess data (updated target tokenization)\n",
    "max_input_length = 512\n",
    "max_target_length = 128\n",
    "\n",
    "\n",
    "def preprocess_function(examples):\n",
    "    inputs = examples[\"original\"]\n",
    "    targets = examples[\"summarization\"]\n",
    "    model_inputs = tokenizer(\n",
    "        inputs,\n",
    "        max_length=max_input_length,\n",
    "        truncation=True\n",
    "    )\n",
    "    with tokenizer.as_target_tokenizer():\n",
    "        pass  # no-op to silence very old notebooks; using text_target below\n",
    "    labels = tokenizer(\n",
    "        text_target=targets,\n",
    "        max_length=max_target_length,\n",
    "        truncation=True\n",
    "    )\n",
    "    model_inputs[\"labels\"] = labels[\"input_ids\"]\n",
    "    return model_inputs\n",
    "\n",
    "\n",
    "tokenized_datasets = dataset.map(preprocess_function, batched=True,\n",
    "                                 remove_columns=[c for c in df.columns if c not in (\"original\", \"summarization\")])\n",
    "\n",
    "# 6. Load model\n",
    "model = AutoModelForSeq2SeqLM.from_pretrained(model_checkpoint)\n",
    "\n",
    "# 7. Metrics\n",
    "import evaluate\n",
    "\n",
    "rouge = evaluate.load(\"rouge\")\n",
    "\n",
    "\n",
    "def compute_metrics(eval_pred):\n",
    "    predictions, labels = eval_pred\n",
    "    # predictions may come as tuple(logits, ...) depending on HF internals\n",
    "    if isinstance(predictions, tuple):\n",
    "        predictions = predictions[0]\n",
    "    decoded_preds = tokenizer.batch_decode(predictions, skip_special_tokens=True)\n",
    "\n",
    "    # Replace -100 in the labels as we can't decode them\n",
    "    labels = [[(l if l != -100 else tokenizer.pad_token_id) for l in label] for label in labels]\n",
    "    decoded_labels = tokenizer.batch_decode(labels, skip_special_tokens=True)\n",
    "\n",
    "    result = rouge.compute(predictions=decoded_preds, references=decoded_labels, use_stemmer=True)\n",
    "    # Return mid.fmeasure for each ROUGE variant\n",
    "    return {k: v.mid.fmeasure if hasattr(v, \"mid\") else v for k, v in result.items()}\n",
    "\n",
    "\n",
    "# 8. Training args\n",
    "training_args = Seq2SeqTrainingArguments(\n",
    "    output_dir=\"./results\",\n",
    "    eval_strategy=\"epoch\",\n",
    "    save_strategy=\"epoch\",  # <-- match eval\n",
    "    predict_with_generate=True,\n",
    "    generation_max_length=128,\n",
    "    learning_rate=2e-5,\n",
    "    per_device_train_batch_size=2,\n",
    "    per_device_eval_batch_size=2,\n",
    "    num_train_epochs=2,\n",
    "    weight_decay=0.01,\n",
    "    save_total_limit=2,\n",
    "    push_to_hub=True,\n",
    "    hub_model_id=\"dotslashderek/bart-large-cnn-finetuned-summarization\",\n",
    "    report_to=\"none\",\n",
    "    load_best_model_at_end=True,\n",
    "    metric_for_best_model=\"rougeL\",\n",
    "    greater_is_better=True,\n",
    "    logging_strategy=\"epoch\"  # optional: keeps logs aligned\n",
    ")\n",
    "\n",
    "# 9. Data collator\n",
    "data_collator = DataCollatorForSeq2Seq(tokenizer, model=model)\n",
    "\n",
    "# 10. Trainer\n",
    "trainer = Seq2SeqTrainer(\n",
    "    model=model,\n",
    "    args=training_args,\n",
    "    train_dataset=tokenized_datasets[\"train\"],\n",
    "    eval_dataset=tokenized_datasets[\"test\"],\n",
    "    tokenizer=tokenizer,\n",
    "    data_collator=data_collator,\n",
    "    compute_metrics=compute_metrics,\n",
    ")\n",
    "\n",
    "# 11. Train and push to hub\n",
    "trainer.train()\n",
    "trainer.push_to_hub()\n"
   ],
   "id": "a4a2fff7a6f91c72"
  }
 ],
 "metadata": {
  "kernelspec": {
   "display_name": "Python 3",
   "language": "python",
   "name": "python3"
  },
  "language_info": {
   "codemirror_mode": {
    "name": "ipython",
    "version": 2
   },
   "file_extension": ".py",
   "mimetype": "text/x-python",
   "name": "python",
   "nbconvert_exporter": "python",
   "pygments_lexer": "ipython2",
   "version": "2.7.6"
  }
 },
 "nbformat": 4,
 "nbformat_minor": 5
}
